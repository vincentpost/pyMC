{
 "cells": [
  {
   "cell_type": "markdown",
   "metadata": {},
   "source": [
    "# Working with NetCDF data\n",
    "\n",
    "NetCDF is shorthand for Network Common Data Form and is frequently used to distribute large amounts of array-like data. This notebook explains the basics of the data structure and shows how an online NetCDF dataset can be downloaded and visualised using the xarray package.\n",
    "\n",
    "Let's import the required packages first."
   ]
  },
  {
   "cell_type": "code",
   "execution_count": 1,
   "metadata": {},
   "outputs": [],
   "source": [
    "import requests\n",
    "import urllib\n",
    "\n",
    "import geopandas as gpd\n",
    "import matplotlib.pyplot as plt\n",
    "import numpy as np\n",
    "import pandas as pd\n",
    "import xarray as xr"
   ]
  },
  {
   "cell_type": "markdown",
   "metadata": {},
   "source": [
    "The task at hand consists of determining the mean monthly rainfall over the Ovens catchment based on data in a NetCDF file. First, let's get the catchment boundary using the same API as in the previous session."
   ]
  },
  {
   "cell_type": "code",
   "execution_count": 2,
   "metadata": {},
   "outputs": [],
   "source": [
    "url = \"https://services-ap1.arcgis.com/ypkPEy1AmwPKGNNv/arcgis/rest/services/River_Regions_Source_view/FeatureServer/0/query\"\n",
    "\n",
    "rest_params = {\n",
    "    \"outFields\": \"*\",\n",
    "    \"where\": \"rivregname='OVENS RIVER'\",\n",
    "    \"f\": \"geojson\",\n",
    "}\n",
    "\n",
    "response = requests.get(url, params=rest_params)"
   ]
  },
  {
   "cell_type": "markdown",
   "metadata": {},
   "source": [
    "Convert to a GeoDataFrame..."
   ]
  },
  {
   "cell_type": "code",
   "execution_count": 3,
   "metadata": {},
   "outputs": [],
   "source": [
    "# Get the data part from the response\n",
    "data = response.json()\n",
    "# Convert the features to a GeoDataFrame\n",
    "gdf_ov = gpd.GeoDataFrame.from_features(data[\"features\"], crs=4326)"
   ]
  },
  {
   "cell_type": "markdown",
   "metadata": {},
   "source": [
    "Then we'll download the NetCDF file from the following data folder: https://thredds.nci.org.au/thredds/catalog/zv2/agcd/v2-0-2/precip/total/r005/01month/catalog.html. There are lots of other interesting data sets here too: https://thredds.nci.org.au/thredds/catalog/catalog.html.\n",
    "\n",
    "We use the `urlretrieve` function to actually download the file to our computer."
   ]
  },
  {
   "cell_type": "code",
   "execution_count": 4,
   "metadata": {},
   "outputs": [],
   "source": [
    "url = \"https://thredds.nci.org.au/thredds/fileServer/zv2/agcd/v2-0-2/precip/total/r005/01month/agcd_v2_precip_total_r005_monthly_2010.nc\"\n",
    "local_filename = \"agcd_v2_precip_total_r005_monthly_2010.nc\"\n",
    "urllib.request.urlretrieve(url, local_filename);"
   ]
  },
  {
   "cell_type": "markdown",
   "metadata": {},
   "source": [
    "The downloaded NetCDF file can be opened using `open_dataset` from xarray. Typing the variable name on the last line will display the contents. For a detailed explanation of the data structures, see https://docs.xarray.dev/en/stable/user-guide/data-structures.html. For now it is worth noting that the Dataset stores the dimensions (time, lat and lon) as well as the coordinates for those dimesions. The Dataset also contains two variables: 'precip' and 'crs'. The latter only stores the coordinate system, the actual rainfall values per pixel are in 'precip'."
   ]
  },
  {
   "cell_type": "code",
   "execution_count": null,
   "metadata": {},
   "outputs": [],
   "source": [
    "ds = xr.open_dataset(local_filename)\n",
    "\n",
    "ds"
   ]
  },
  {
   "cell_type": "markdown",
   "metadata": {},
   "source": [
    "To get an idea of the data, let's plot `precip` using the convenience method `plot`. Note how the `sel` method is used to select only the data for the last available month. Just like for a Pandas column, the variable of interest can be selected by placing its name between square brackets. The `plot` method of the GeoDataFrame is overlain to show the location of the Ovens catchment."
   ]
  },
  {
   "cell_type": "code",
   "execution_count": null,
   "metadata": {},
   "outputs": [],
   "source": [
    "fig, ax = plt.subplots()\n",
    "da = ds.sel(time=ds.time[-1])[\"precip\"].plot(ax=ax)\n",
    "\n",
    "gdf_ov.plot(ax=ax, fc=\"none\", ec=\"w\"); # No fill, white edgecolor"
   ]
  },
  {
   "cell_type": "markdown",
   "metadata": {},
   "source": [
    "Let's say we want to use the data from the NetCDF file to get the mean rainfall per month in the Ovens catchment. In order to do this we need to create a mask, which will be used to hide all the data points in the Dataset that are outside the catchment. A few steps are required to do this. First we'll create a set of points and add them to a GeoDataFrame `gdf_pts` that contains no actual data, only the points themselves. Then we'll use geopandas' powerful `sjoin` function to determine which points are within the polygon of the catchment. Using some intermediate steps we can convert this to a mask, which is an array which has True where a point is inside the catchment, and False elsewhere."
   ]
  },
  {
   "cell_type": "code",
   "execution_count": 7,
   "metadata": {},
   "outputs": [],
   "source": [
    "x, y = np.meshgrid(ds[\"lon\"], ds[\"lat\"])\n",
    "da_shape = x.shape\n",
    "x = x.ravel()\n",
    "y = y.ravel()\n",
    "\n",
    "pts = gpd.points_from_xy(x, y)\n",
    "gdf_pts = gpd.GeoDataFrame(geometry=pts, crs=4326)\n",
    "within = gdf_pts.sjoin(gdf_ov, predicate='within')\n",
    "idx = within.index.to_list()\n",
    "mask = np.full(x.shape, False)\n",
    "mask[idx] = True\n",
    "mask = mask.reshape(da_shape)"
   ]
  },
  {
   "cell_type": "markdown",
   "metadata": {},
   "source": [
    "The next code cell contains a loop in which for each step a time slice from the Dataset is selected. Selecting the variable 'precip' results in a DataArray structure, to which the mask can be applied. This means that all values of the DataArray become NaN outside the catchment, only those within the catchment boundaries will have some finite value. The `nanmean` function is then used to calcuate the mean rainfall for these pixels, and the calculated value is added to the list `rain_lst`."
   ]
  },
  {
   "cell_type": "code",
   "execution_count": 8,
   "metadata": {},
   "outputs": [],
   "source": [
    "rain_lst = []\n",
    "for t in ds[\"time\"]:\n",
    "    dsi = ds.sel(time=t)\n",
    "    da = dsi[\"precip\"]\n",
    "    da = da.where(mask)\n",
    "\n",
    "    mm_rain = np.nanmean(da.to_numpy())\n",
    "\n",
    "    rain_lst.append(mm_rain)"
   ]
  },
  {
   "cell_type": "markdown",
   "metadata": {},
   "source": [
    "To view the last DataArray in QGIS we can save it as a NetCDF file"
   ]
  },
  {
   "cell_type": "code",
   "execution_count": 9,
   "metadata": {},
   "outputs": [],
   "source": [
    "da.to_netcdf(\"da.nc\")"
   ]
  },
  {
   "cell_type": "markdown",
   "metadata": {},
   "source": [
    "We'll then plot the data in a bar chart."
   ]
  },
  {
   "cell_type": "code",
   "execution_count": null,
   "metadata": {},
   "outputs": [],
   "source": [
    "fig, ax = plt.subplots()\n",
    "\n",
    "ax.bar(ds[\"time\"], rain_lst);"
   ]
  },
  {
   "cell_type": "markdown",
   "metadata": {},
   "source": [
    "Hmm, the result isn't particularly pleasing to the eye. If we convert the data to a Pandas DataFrame makes it possible to use the `daysinmonth` method on the DatetimeIndex to get the duration for each month, with which we can set the width of the bars. The resulting plot looks a lot better!"
   ]
  },
  {
   "cell_type": "code",
   "execution_count": null,
   "metadata": {},
   "outputs": [],
   "source": [
    "df = pd.DataFrame(\n",
    "    index=ds[\"time\"],\n",
    "    data = {\n",
    "        \"rainfall\": rain_lst,\n",
    "    }\n",
    ")\n",
    "\n",
    "fig, ax = plt.subplots()\n",
    "bar_widths = df.index.daysinmonth\n",
    "ax.bar(df.index, df[\"rainfall\"], width=bar_widths, ec='w');"
   ]
  }
 ],
 "metadata": {
  "kernelspec": {
   "display_name": "geopandas_env",
   "language": "python",
   "name": "python3"
  },
  "language_info": {
   "codemirror_mode": {
    "name": "ipython",
    "version": 3
   },
   "file_extension": ".py",
   "mimetype": "text/x-python",
   "name": "python",
   "nbconvert_exporter": "python",
   "pygments_lexer": "ipython3",
   "version": "3.10.14"
  }
 },
 "nbformat": 4,
 "nbformat_minor": 2
}
