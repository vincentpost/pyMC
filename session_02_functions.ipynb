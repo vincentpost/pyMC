{
 "cells": [
  {
   "attachments": {},
   "cell_type": "markdown",
   "metadata": {},
   "source": [
    "## Functions\n",
    "\n",
    "A function is a block of code that performs a specific taks and is only executed when it is called from somewhere else inside your program. You typically create functions when certain tasks have to be executed several times. So as a general rule, when you're programming and you find that you are repeating the same lines of code twice or more, then it is time to think about bundling them into a function. This leaves less room for errors and it makes your code much easier to read and understand. Moreover, it is less work to change the function than it is to change the code in all the places where repetition occurs.\n",
    "\n",
    "The code block below demonstrates how a function is defined. The first line starts with `def`, which tells Python that you plan to define a function. After `def` comes the name of the function, `check_extreme_event` in this case. After the function name come parentheses. In this example, the word `value` appears between parentheses, meaning that the function `check_extreme_event` accepts an *argument*, which in this case is called `value`. Effectively, `value` is a variable that will be available inside (and only inside) the function. Note that the line with the function definition must end with a colon, and that all code that belongs to the function must be indented."
   ]
  },
  {
   "cell_type": "code",
   "execution_count": null,
   "metadata": {},
   "outputs": [],
   "source": [
    "def check_extreme_event(value):\n",
    "    if value > 100:\n",
    "        print(\"This is an extreme event, precipitation is greater than 100mm. Prepare for a flood.\")\n",
    "    elif value < 10:\n",
    "        print(\"This is not an extreme event, precipitation is less than 10mm. But it might get dry.\")\n",
    "    else:\n",
    "        print(\"This is not an extreme event, precipitation is less than 100mm. No need to worry.\")"
   ]
  },
  {
   "attachments": {},
   "cell_type": "markdown",
   "metadata": {},
   "source": [
    "The function contains a series of conditional statements that check the value of `value` and print a certain message to the screen depending on the value provided. Calling the function (this is programming terminology for executing the function) is done in the following way:"
   ]
  },
  {
   "cell_type": "code",
   "execution_count": null,
   "metadata": {},
   "outputs": [],
   "source": [
    "check_extreme_event(101)"
   ]
  },
  {
   "attachments": {},
   "cell_type": "markdown",
   "metadata": {},
   "source": [
    "It is not compulsory for a function to accept arguments, so the following function definition is fine as well"
   ]
  },
  {
   "cell_type": "code",
   "execution_count": null,
   "metadata": {},
   "outputs": [],
   "source": [
    "def func_without_args():\n",
    "    print(\"This function does not accept arguments\")"
   ]
  },
  {
   "attachments": {},
   "cell_type": "markdown",
   "metadata": {},
   "source": [
    "To execute the function it needs to be called like this"
   ]
  },
  {
   "cell_type": "code",
   "execution_count": null,
   "metadata": {},
   "outputs": [],
   "source": [
    "func_without_args()"
   ]
  },
  {
   "attachments": {},
   "cell_type": "markdown",
   "metadata": {},
   "source": [
    "When you call a function without parentheses it only shows a reference to the function."
   ]
  },
  {
   "cell_type": "code",
   "execution_count": null,
   "metadata": {},
   "outputs": [],
   "source": [
    "func_without_args"
   ]
  },
  {
   "attachments": {},
   "cell_type": "markdown",
   "metadata": {},
   "source": [
    "A function can also return a value. For example"
   ]
  },
  {
   "cell_type": "code",
   "execution_count": null,
   "metadata": {},
   "outputs": [],
   "source": [
    "def check_extreme_event(value):\n",
    "    if value > 100:\n",
    "        rv = \"This is an extreme event, precipitation is greater than 100mm. Prepare for a flood.\"\n",
    "    elif value < 10:\n",
    "        rv = \"This is not an extreme event, precipitation is less than 10mm. But it might get dry.\"\n",
    "    else:\n",
    "        rv = \"This is not an extreme event, precipitation is less than 100mm. No need to worry.\"\n",
    "\n",
    "    return rv"
   ]
  },
  {
   "attachments": {},
   "cell_type": "markdown",
   "metadata": {},
   "source": [
    "Now it can be called in the following way"
   ]
  },
  {
   "cell_type": "code",
   "execution_count": null,
   "metadata": {},
   "outputs": [],
   "source": [
    "msg = check_extreme_event(90)\n",
    "print(msg)"
   ]
  },
  {
   "cell_type": "markdown",
   "metadata": {},
   "source": [
    "***Exercise 1***: Write a function that returns the square of its argument."
   ]
  },
  {
   "cell_type": "code",
   "execution_count": null,
   "metadata": {},
   "outputs": [],
   "source": [
    "# Type your code here\n"
   ]
  },
  {
   "attachments": {},
   "cell_type": "markdown",
   "metadata": {},
   "source": [
    "A function can have multiple arguments. It can also have optional arguments, which are called *keyword arguments* (or simply *kwargs*) in Python. A keyword argument is defined by specifying a default value within the function definition. In the example below `threshold` becomes a keyword argument because a default value of 100 mm/d is assigned to it using the equal sign."
   ]
  },
  {
   "cell_type": "code",
   "execution_count": null,
   "metadata": {},
   "outputs": [],
   "source": [
    "def check_extreme_event(value, threshold=100):\n",
    "    if value > threshold:\n",
    "        rv = f\"{value} mm/d is an extreme event, precipitation is greater than {threshold} mm. Prepare for a flood.\"\n",
    "    elif value < 10:\n",
    "        rv = f\"{value} mm/d is not an extreme event, precipitation is less than {threshold} mm. But it might get dry.\"\n",
    "    else:\n",
    "        rv = f\"{value} mm/d is not an extreme event, precipitation is less than 100mm. No need to worry.\"\n",
    "\n",
    "    return rv"
   ]
  },
  {
   "attachments": {},
   "cell_type": "markdown",
   "metadata": {},
   "source": [
    "Note that in the above code, use is made of a formatted string. It can be recognised by the `f` that precedes the first double quote of the string. In a formatted string, any variable enclosed between curly brackets (in this case `value` and `threshold`) will be substituted by its value.\n",
    "\n",
    "The function can now be called like this:"
   ]
  },
  {
   "cell_type": "code",
   "execution_count": null,
   "metadata": {},
   "outputs": [],
   "source": [
    "msg = check_extreme_event(90, 80)\n",
    "print(msg)"
   ]
  },
  {
   "attachments": {},
   "cell_type": "markdown",
   "metadata": {},
   "source": [
    "Or like this"
   ]
  },
  {
   "cell_type": "code",
   "execution_count": null,
   "metadata": {},
   "outputs": [],
   "source": [
    "msg = check_extreme_event(90)\n",
    "print(msg)"
   ]
  },
  {
   "cell_type": "code",
   "execution_count": null,
   "metadata": {},
   "outputs": [],
   "source": [
    "msg = check_extreme_event(value=90, threshold=70)\n",
    "print(msg)"
   ]
  },
  {
   "attachments": {},
   "cell_type": "markdown",
   "metadata": {},
   "source": [
    "Note that keyword arguments must always come after non-keyword arguments, otherwise Python will throw an error."
   ]
  },
  {
   "attachments": {},
   "cell_type": "markdown",
   "metadata": {},
   "source": [
    "***Exercise 2***: Add the keyword argument `lower_threshold` to the `check_extreme_event()` function. Use the argument in your function to print a message when it might get dry and call the function."
   ]
  },
  {
   "cell_type": "code",
   "execution_count": null,
   "metadata": {},
   "outputs": [],
   "source": [
    "# Modify the code below\n",
    "def check_extreme_event(value, threshold=100):\n",
    "    if value > threshold:\n",
    "        rv = f\"{value} mm/d is an extreme event, precipitation is greater than {threshold} mm. Prepare for a flood.\"\n",
    "    elif value < 10:\n",
    "        rv = f\"{value} mm/d is not an extreme event, precipitation is less than {threshold} mm. But it might get dry.\"\n",
    "    else:\n",
    "        rv = f\"{value} mm/d is not an extreme event, precipitation is less than 100mm. No need to worry.\"\n",
    "\n",
    "    return rv"
   ]
  },
  {
   "attachments": {},
   "cell_type": "markdown",
   "metadata": {},
   "source": [
    "## Docstrings\n",
    "It is common practice to document the behaviour of a function using a so-called *docstring*. First of all, a docstring should describe what the functions' purpose is. Then it provides information about the arguments (or parameters) that must/can be passed to the function, and the value that the function returns."
   ]
  },
  {
   "cell_type": "code",
   "execution_count": null,
   "metadata": {},
   "outputs": [],
   "source": [
    "def check_extreme_event(value, threshold=100):\n",
    "    \"\"\"\n",
    "    Check if a precipitation value is an extreme event.\n",
    "    Parameters\n",
    "    ----------\n",
    "    value : float\n",
    "        The precipitation value to be checked.\n",
    "    threshold : float, optional\n",
    "        The threshold value for an extreme event. Default is 100.\n",
    "\n",
    "    Returns\n",
    "    -------\n",
    "    rv : str\n",
    "        A message indicating whether the precipitation value is an extreme event or not.\n",
    "\n",
    "    Notes\n",
    "    -----\n",
    "    The function checks if the precipitation value is greater than the threshold value.\n",
    "    If it is, the function returns a message indicating that the precipitation value is\n",
    "    an extreme event. If the precipitation value is less than 10, the function returns\n",
    "    a message indicating that the precipitation value is not an extreme event, but it\n",
    "    might get dry. If the precipitation value is between 10 and the threshold value,\n",
    "    the function returns a message indicating that the precipitation value is not an\n",
    "    extreme event and there is no need to worry.\n",
    "\n",
    "    \"\"\"\n",
    "\n",
    "    if value > threshold:\n",
    "        rv = f\"{value} mm/d is an extreme event, precipitation is greater than {threshold} mm. Prepare for a flood.\"\n",
    "    elif value < 10:\n",
    "        rv = f\"{value} mm/d is not an extreme event, precipitation is less than {threshold} mm. But it might get dry.\"\n",
    "    else:\n",
    "        rv = f\"{value} mm/d is not an extreme event, precipitation is less than 100mm. No need to worry.\"\n",
    "\n",
    "    return rv"
   ]
  },
  {
   "attachments": {},
   "cell_type": "markdown",
   "metadata": {},
   "source": [
    "Suddenly our code got a lot longer and the time involved in creating good docstrings should not be underestimated. But they are an essential part of good coding practice because they allow others to understand what the function does. This includes the users of your program, other developers and yourself when you return to a piece of code several years after you last worked on it.\n",
    "\n",
    "The style used in the code cell above follows the convections for the <A href=\"https://numpydoc.readthedocs.io/en/latest/format.html\">numpydoc extension for Sphinx</A>. Sphinx is a tool that creates the documentation of your code project partially based on the docstrings you have provided, so writing good docstrings can save you lots of time later on when you want to share your code with others.\n",
    "\n",
    "The docstring also serves to provide interactive help about a function within an IDE, or a notebook environment. For example, in Jupyter notebook or Jupyter lab, we can now get help on our function by typing"
   ]
  },
  {
   "cell_type": "code",
   "execution_count": null,
   "metadata": {},
   "outputs": [],
   "source": [
    "check_extreme_event?"
   ]
  },
  {
   "attachments": {},
   "cell_type": "markdown",
   "metadata": {},
   "source": [
    "or"
   ]
  },
  {
   "cell_type": "code",
   "execution_count": null,
   "metadata": {},
   "outputs": [],
   "source": [
    "help(check_extreme_event)"
   ]
  },
  {
   "attachments": {},
   "cell_type": "markdown",
   "metadata": {},
   "source": [
    "In an IDE, typing the function name followed by the opening parenthesis genereally results in a window popping up with the docstring. In a workbook environment you can try the function name followed by the opening parenthesis and then hitting Shift + Tab (from experience this does not work in all cases, but give it a try in the code cell below)"
   ]
  },
  {
   "cell_type": "code",
   "execution_count": null,
   "metadata": {},
   "outputs": [],
   "source": [
    "# Place your cursor after the opening parenthesis and hit Shift + Tab to display the docstring (or Shift + Cmd + Space on macOS)\n",
    "check_extreme_event("
   ]
  },
  {
   "attachments": {},
   "cell_type": "markdown",
   "metadata": {},
   "source": [
    "## Checking arguments\n"
   ]
  },
  {
   "attachments": {},
   "cell_type": "markdown",
   "metadata": {},
   "source": [
    "But what if we pass an array to the function? This results in an error because of the `if` statement"
   ]
  },
  {
   "cell_type": "code",
   "execution_count": null,
   "metadata": {},
   "outputs": [],
   "source": [
    "import numpy as np\n",
    "\n",
    "values = np.linspace(0, 100, 3)\n",
    "check_extreme_event(value=values)"
   ]
  },
  {
   "attachments": {},
   "cell_type": "markdown",
   "metadata": {},
   "source": [
    "To avoid such things from happening, it is important to add some code to your function that checks the type of `value` and rewrite the function in such a way that it will work both when `value` is a scalar and an array. There could be multiple ways to do this, for example"
   ]
  },
  {
   "cell_type": "code",
   "execution_count": null,
   "metadata": {},
   "outputs": [],
   "source": [
    "def check_extreme_event(value, threshold=100):\n",
    "    value = np.atleast_1d(value)\n",
    "\n",
    "    if (value > threshold).any():\n",
    "        rv = f\"{value.max()} mm/d is an extreme event, precipitation is greater than {threshold} mm. Prepare for a flood.\"\n",
    "    elif (value < 10).any():\n",
    "        rv = f\"{value.min()} mm/d is not an extreme event, precipitation is less than {threshold} mm. But it might get dry.\"\n",
    "    else:\n",
    "        rv = f\"None of the events is an extreme event, precipitation is less than 100mm. No need to worry.\"\n",
    "\n",
    "    return rv"
   ]
  },
  {
   "attachments": {},
   "cell_type": "markdown",
   "metadata": {},
   "source": [
    "Now let's try the code that did not work before"
   ]
  },
  {
   "cell_type": "code",
   "execution_count": null,
   "metadata": {},
   "outputs": [],
   "source": [
    "values = np.linspace(0, 100, 3)\n",
    "check_extreme_event(value=values)"
   ]
  },
  {
   "attachments": {},
   "cell_type": "markdown",
   "metadata": {},
   "source": [
    "and also try it with a scalar `value`"
   ]
  },
  {
   "cell_type": "code",
   "execution_count": null,
   "metadata": {},
   "outputs": [],
   "source": [
    "check_extreme_event(10)"
   ]
  },
  {
   "attachments": {},
   "cell_type": "markdown",
   "metadata": {},
   "source": [
    "***Exercise 3***: A function can also return multiple variables. Do you know how? Now modify the function so that it returns the message that we had before, plus a boolean (`True` or `False`) to indicate whether or not the event is extreme. Next, call the function, and use the boolean to only print the message if the event is extreme."
   ]
  },
  {
   "cell_type": "code",
   "execution_count": null,
   "metadata": {},
   "outputs": [],
   "source": [
    "# Modify the code below\n",
    "def check_extreme_event(value, threshold=100):\n",
    "    value = np.atleast_1d(value)\n",
    "\n",
    "    if (value > threshold).any():\n",
    "        rv = f\"{value.max()} mm/d is an extreme event, precipitation is greater than {threshold} mm. Prepare for a flood.\"\n",
    "    elif (value < 10).any():\n",
    "        rv = f\"{value.min()} mm/d is not an extreme event, precipitation is less than {threshold} mm. But it might get dry.\"\n",
    "    else:\n",
    "        rv = f\"None of the events is an extreme event, precipitation is less than 100mm. No need to worry.\"\n",
    "\n",
    "    return rv\n",
    "\n",
    "# Test the function with a single value\n",
    "check_extreme_event(106)"
   ]
  },
  {
   "attachments": {},
   "cell_type": "markdown",
   "metadata": {},
   "source": [
    "Does this mean we are done now? Not quite. What if a user calls our function and accidentally passes a string variable rather than a number?"
   ]
  },
  {
   "cell_type": "code",
   "execution_count": null,
   "metadata": {},
   "outputs": [],
   "source": [
    "check_extreme_event('ten')"
   ]
  },
  {
   "attachments": {},
   "cell_type": "markdown",
   "metadata": {},
   "source": [
    "Obviously that didn't work. If this were a real function that was being used inside a `for` loop for example, the program would crash. As a programmer you have to think of ways to prevent such things from happening. One way would be to embed the code inside the function between `try` and `except` statements. The code under `try` gets executed but when an error occurs, Python jumps to the `except` part where you can specify what needs to happen in that case. In this example, it probably makes most sense to issue some sort of warning and return an empty return value, which is available in Python as `None'"
   ]
  },
  {
   "cell_type": "code",
   "execution_count": null,
   "metadata": {},
   "outputs": [],
   "source": [
    "def check_extreme_event(value, threshold=100):\n",
    "    try:\n",
    "        value = np.atleast_1d(value)\n",
    "\n",
    "        if (value > threshold).any():\n",
    "            rv = f\"{value.max()} mm/d is an extreme event, precipitation is greater than {threshold} mm. Prepare for a flood.\"\n",
    "        elif (value < 10).any():\n",
    "            rv = f\"{value.min()} mm/d is not an extreme event, precipitation is less than {threshold} mm. But it might get dry.\"\n",
    "        else:\n",
    "            rv = f\"None of the events is an extreme event, precipitation is less than 100mm. No need to worry.\"\n",
    "\n",
    "        return rv\n",
    "    except:\n",
    "        print(\"Warning: an error occurred. Check input argument.\")\n",
    "        return None"
   ]
  },
  {
   "attachments": {},
   "cell_type": "markdown",
   "metadata": {},
   "source": [
    "Now let's try if it worked by embedding the function inside a `for` loop"
   ]
  },
  {
   "cell_type": "code",
   "execution_count": null,
   "metadata": {},
   "outputs": [],
   "source": [
    "for x in [5, 50, 105, 'ten']:\n",
    "    y = check_extreme_event(x)\n",
    "    print(y)"
   ]
  },
  {
   "attachments": {},
   "cell_type": "markdown",
   "metadata": {},
   "source": [
    "Finally, let's have a look at how we can set up the code within the for loop to ensure that our program does not crash when we try to add the first element of the array `y` to a list. Since we know that `check_extreme_event` returns `None` when an error occurred, and an array otherwise, we can check for this condition, and only add the first element of `y` when `y` is not `None`."
   ]
  },
  {
   "cell_type": "code",
   "execution_count": null,
   "metadata": {},
   "outputs": [],
   "source": [
    "meaningful_results = []\n",
    "for x in [-10, 0, 10, 'ten']:\n",
    "    y = check_extreme_event(x)\n",
    "    if y is not None:\n",
    "        meaningful_results.append(y)\n",
    "\n",
    "print(meaningful_results)"
   ]
  },
  {
   "attachments": {},
   "cell_type": "markdown",
   "metadata": {},
   "source": [
    "Checking for errors can be a lot of work and require lots and lots of lines of code. Nonetheless it should become an integral part of your coding as the potential for incorrect results is enormous.\n",
    "\n",
    "***Bonus exercise***\n",
    "\n",
    "Precipitation often follow some kind extreme value distribution like a Gamma or Weibull distribution. Use the Numpy Docs (https://numpy.org/doc/stable/index.html) to generate a sample of ten precipitation event from a Weibull distribution (hint: search 'weibull' in the docs), with a shape parameter of 1.2 and a mean of 50 (done by multiplying the values by 50). and test the `extreme_value_function`."
   ]
  },
  {
   "cell_type": "code",
   "execution_count": null,
   "metadata": {},
   "outputs": [],
   "source": [
    "# Add the code below\n"
   ]
  }
 ],
 "metadata": {
  "kernelspec": {
   "display_name": "Python 3 (ipykernel)",
   "language": "python",
   "name": "python3"
  },
  "language_info": {
   "codemirror_mode": {
    "name": "ipython",
    "version": 3
   },
   "file_extension": ".py",
   "mimetype": "text/x-python",
   "name": "python",
   "nbconvert_exporter": "python",
   "pygments_lexer": "ipython3",
   "version": "3.9.19"
  }
 },
 "nbformat": 4,
 "nbformat_minor": 4
}
