{
 "cells": [
  {
   "attachments": {},
   "cell_type": "markdown",
   "metadata": {},
   "source": [
    "# Object-oriented programming\n",
    "\n",
    "One of the main strenghts of Python is that it supports object-oriented programming (OOP), although it is not unique in that sense: most codes are built around that concept these days. When writing complex programs, or when developing Python packages or libraries, an object-oriented approach is the way to go. An object has unique properties and behaviour. Its properties are defined through *attributes* and the *methods* of an object determine its behaviour. Once an object is defined, you can use it mulitple times in your program, which has the obvious advantage that you don't have to repeat the same code over and over again. By letting objects interact with each other, you define how your program works. When you are not used to this type of programming, OOP may seem like an abstract concept, and it is best explained by showing examples."
   ]
  },
  {
   "attachments": {},
   "cell_type": "markdown",
   "metadata": {},
   "source": [
    "## Classes\n",
    "\n",
    "In Python classes form the blueprint for the structure and behaviour of objects. A class has properties (also called attributes) and methods, as shown in the code cell below. The definition of a class starts (not surprisingly) with the word `class`, which is followed by its name (and a colon to end the code line). \n",
    "\n",
    "All code that defines the class is indented. In the example below, two functions are defined as part of the class (and therefore they should rather be called methods). The first one is `__init__`, which is the method that gets executed when an object gets initialized (more on that later). It can be seen that there are three arguments: `self`, `value` and `year`. The argument `self` is a bit of a special one. It occurs because the object needs to know about its own existence in the computer memory. A user doesn't have to worry about `self`, the argument gets passed to the function invisibly by Python, so as far as the user is concerned, there are really only two arguments for the function (`value` and `year`).\n",
    "\n",
    "Within the `__init__` method, the arguments are used to set the properties of the class. These are `value` and `year`. Because the are preceded by `self`, we know that they are properties of the class.\n",
    "\n",
    "The second method is a simple method called `inform_public` that prints a message to the screen depending on the state (i.e. the values of the properties) of the object. Notice that the word `self` appears once more as an argument, simply because Python requires it because we are defining a class. In practice, the function gets called without any arguments, as will be demonstrated in the next code cell."
   ]
  },
  {
   "cell_type": "code",
   "execution_count": null,
   "metadata": {},
   "outputs": [],
   "source": [
    "class Event:\n",
    "    def __init__(self, value, year):\n",
    "        self.value = value\n",
    "        self.year = year\n",
    "\n",
    "        self.lower_threshold = 100\n",
    "        self.upper_threshold = 10\n",
    "    \n",
    "    def inform_public(self):\n",
    "        if self.value > self.upper_threshold:\n",
    "            rv = f\"{self.value} mm/d is an extreme event, precipitation is greater than {self.upper_threshold} mm. Prepare for a flood.\"\n",
    "        elif self.value < self.lower_threshold:\n",
    "            rv = f\"{self.value} mm/d is not an extreme event, precipitation is less than {self.lower_threshold} mm. But it might get dry.\"\n",
    "        else:\n",
    "            rv = f\"{self.value} mm/d is not an extreme event, precipitation is less than 100mm. No need to worry.\""
   ]
  },
  {
   "attachments": {},
   "cell_type": "markdown",
   "metadata": {},
   "source": [
    "With the class `Event` now defined, we can create an instance of it. That means that we will initialize it as an object that has actual data. The resulting class instance is called `winter_storm_1998` and the code looks like we're calling a function. In fact, we are because Python understands that it needs to call the `__init__` functions with the arguments that we pass in the parentheses behind `Event`. Once the class instance exists, its methods can be called, in this case the `inform_public` method. Note that, as mentioned previously, there is no need to worry about that `self` argument, neither when initializing `Event`, nor when calling `inform_public`."
   ]
  },
  {
   "cell_type": "code",
   "execution_count": null,
   "metadata": {},
   "outputs": [],
   "source": [
    "winter_storm_1998 = Event(101, 1998)\n",
    "winter_storm_1998.inform_public()"
   ]
  },
  {
   "attachments": {},
   "cell_type": "markdown",
   "metadata": {},
   "source": [
    "Besides `__init__` there are a few other special class methods, for example `__str__`. This method can be defined to provide an human-readable string representation of the class. The code cell below copies the class definition from before, but adds the `__str__` method. As can be seen, it returns a string with information about the class property values."
   ]
  },
  {
   "cell_type": "code",
   "execution_count": null,
   "metadata": {},
   "outputs": [],
   "source": [
    "class Event:\n",
    "    def __init__(self, value, year, lower_threshold=10, upper_threshold=100):\n",
    "        self.value = value\n",
    "        self.year = year\n",
    "\n",
    "        self.upper_threshold = upper_threshold\n",
    "        self.lower_threshold = lower_threshold\n",
    "    \n",
    "    def inform_public(self):\n",
    "        if self.value > self.upper_threshold:\n",
    "            rv = f\"{self.value} mm/d is an extreme event, precipitation is greater than {self.upper_threshold} mm. Prepare for a flood.\"\n",
    "        elif self.value < self.lower_threshold:\n",
    "            rv = f\"{self.value} mm/d is not an extreme event, precipitation is less than {self.lower_threshold} mm. But it might get dry.\"\n",
    "        else:\n",
    "            rv = f\"{self.value} mm/d is not an extreme event, precipitation is less than 100mm. No need to worry.\"\n",
    "    \n",
    "    def __str__(self):\n",
    "        return f\"Rainfall amount during event: {self.value} mm/d. Year of occurrence: {self.year}\"\n",
    "    "
   ]
  },
  {
   "attachments": {},
   "cell_type": "markdown",
   "metadata": {},
   "source": [
    "Let's see what happens when we initialize `winter_storm_1998` based on the new class definition and then combine it with a `print` statement"
   ]
  },
  {
   "cell_type": "code",
   "execution_count": null,
   "metadata": {},
   "outputs": [],
   "source": [
    "winter_storm_1998 = Event(101, 1998)\n",
    "print(winter_storm_1998)"
   ]
  },
  {
   "attachments": {},
   "cell_type": "markdown",
   "metadata": {},
   "source": [
    "***Exercise 1***: In the code cell below, add a property to the class that keeps track if the public has already been informed about the event. *Hint*: add the variable to the `__init__` method and modify the value in the `inform_public` method."
   ]
  },
  {
   "cell_type": "code",
   "execution_count": null,
   "metadata": {},
   "outputs": [],
   "source": [
    "# Modify the code below\n",
    "class Event:\n",
    "    def __init__(self, value, year, lower_threshold=10, upper_threshold=100):\n",
    "        self.value = value\n",
    "        self.year = year\n",
    "\n",
    "        self.upper_threshold = upper_threshold\n",
    "        self.lower_threshold = lower_threshold\n",
    "    \n",
    "    def inform_public(self):\n",
    "        if self.value > self.upper_threshold:\n",
    "            rv = f\"{self.value} mm/d is an extreme event, precipitation is greater than {self.upper_threshold} mm. Prepare for a flood.\"\n",
    "        elif self.value < self.lower_threshold:\n",
    "            rv = f\"{self.value} mm/d is not an extreme event, precipitation is less than {self.lower_threshold} mm. But it might get dry.\"\n",
    "        else:\n",
    "            rv = f\"{self.value} mm/d is not an extreme event, precipitation is less than 100mm. No need to worry.\"\n",
    "    \n",
    "    def __str__(self):\n",
    "        return f\"Rainfall amount during event: {self.value} mm/d. Year of occurrence: {self.year}\""
   ]
  },
  {
   "attachments": {},
   "cell_type": "markdown",
   "metadata": {},
   "source": [
    "There can be as many instances of the class as we want, so we can define multiple instances, which all follow the blueprint of `Event`, but each have different properties."
   ]
  },
  {
   "cell_type": "code",
   "execution_count": null,
   "metadata": {},
   "outputs": [],
   "source": [
    "# Define additional events\n",
    "flash_flood_2001 = Event(156, 2001)\n",
    "dam_burst_2003 = Event(267, 2003)\n",
    "drought_2011 = Event(6, 2011)\n",
    "drought_2018 = Event(2, 2018)"
   ]
  },
  {
   "attachments": {},
   "cell_type": "markdown",
   "metadata": {},
   "source": [
    "This is useful when we also have a class that defines a series of events, which is defined in the code cell below. The `__init__` method for this class works a little different than before. No arguments are provided when `Events` is initialized. All the `__init__` method does is create two properties (`_floods` and `_droughts`) which are empty lists. So directly after initialization, these lists are still empty, and they will only be populated when the class method `add_event` gets called. The leading underscore is there because there is a convention in Python that if a variable is not supposed to be used outside the class, its name receives a leading underscore. That is not to say that a user can't see or change it (there is nothing that prevents them from doing this) but at least they've been warned not to touch it, as otherwise unexpected behaviour might occur.\n",
    "\n",
    "The `add_event` method expects an instance of the `Event` class. Depending on the rainfall amount, the event will get added to either the list `_floods` or `_droughts` because the `add_event` method checks the state of the `value` property.\n",
    "\n",
    "The method `list_events` prints the floods and droughts to the screen, thereby making use of the fact that we added a `__str__` method to the `Event` class."
   ]
  },
  {
   "cell_type": "code",
   "execution_count": null,
   "metadata": {},
   "outputs": [],
   "source": [
    "class Events:\n",
    "    def __init__(self):\n",
    "        self._floods = []\n",
    "        self._droughts = []\n",
    "    \n",
    "    def add_event(self, event):\n",
    "        if event.value > event.upper_threshold:\n",
    "            self._floods.append(event)\n",
    "        elif event.value < event.lower_threshold:\n",
    "            self._droughts.append(event)\n",
    "\n",
    "    def list_events(self):\n",
    "        print(\"Floods\")\n",
    "        for event in self._floods:\n",
    "            print('\\t', event)\n",
    "        print(\"Droughts\")\n",
    "        for event in self._droughts:\n",
    "            print('\\t', event)"
   ]
  },
  {
   "attachments": {},
   "cell_type": "markdown",
   "metadata": {},
   "source": [
    "We can now initialize `Events` and call the resulting object `EventsHistory`. Since we already defined multiple events earlier, we can add them to the events history and let the add_event method decide if they're a flood or a drought."
   ]
  },
  {
   "cell_type": "code",
   "execution_count": null,
   "metadata": {},
   "outputs": [],
   "source": [
    "EventsHistory = Events()\n",
    "EventsHistory.add_event(winter_storm_1998)\n",
    "EventsHistory.add_event(flash_flood_2001)\n",
    "EventsHistory.add_event(dam_burst_2003)\n",
    "EventsHistory.add_event(drought_2011)\n",
    "EventsHistory.add_event(drought_2018)"
   ]
  },
  {
   "attachments": {},
   "cell_type": "markdown",
   "metadata": {},
   "source": [
    "Now let's see the events"
   ]
  },
  {
   "cell_type": "code",
   "execution_count": null,
   "metadata": {},
   "outputs": [],
   "source": [
    "EventsHistory.list_events()"
   ]
  },
  {
   "cell_type": "markdown",
   "metadata": {},
   "source": [
    "***Exercise 2***: In the code cell below, add a method that determines the flood that had the highest rainfall amount and prints this event to the screen. Create a new class instance and call the method to check if it works."
   ]
  },
  {
   "cell_type": "code",
   "execution_count": null,
   "metadata": {},
   "outputs": [],
   "source": [
    "# Modify the code below\n",
    "class Events:\n",
    "    def __init__(self):\n",
    "        self._floods = []\n",
    "        self._droughts = []\n",
    "    \n",
    "    def add_event(self, event):\n",
    "        if event.value > event.upper_threshold:\n",
    "            self._floods.append(event)\n",
    "        elif event.value < event.lower_threshold:\n",
    "            self._droughts.append(event)\n",
    "\n",
    "    def list_events(self):\n",
    "        print(\"Floods\")\n",
    "        for event in self._floods:\n",
    "            print('\\t', event)\n",
    "        print(\"Droughts\")\n",
    "        for event in self._droughts:\n",
    "            print('\\t', event)"
   ]
  },
  {
   "cell_type": "markdown",
   "metadata": {},
   "source": [
    "***Exercise 3***: In the code cell below, modify the `add_event` method so that a list of events can be passed as well as only a single event. Create an instance of the class and call the `list_events` method to check if your code worked."
   ]
  },
  {
   "cell_type": "code",
   "execution_count": null,
   "metadata": {},
   "outputs": [],
   "source": [
    "# Modify the code below\n",
    "class Events:\n",
    "    def __init__(self):\n",
    "        self._floods = []\n",
    "        self._droughts = []\n",
    "    \n",
    "    def add_event(self, event):\n",
    "        if event.value > event.upper_threshold:\n",
    "            self._floods.append(event)\n",
    "        elif event.value < event.lower_threshold:\n",
    "            self._droughts.append(event)\n",
    "\n",
    "    def list_events(self):\n",
    "        print(\"Floods\")\n",
    "        for event in self._floods:\n",
    "            print('\\t', event)\n",
    "        print(\"Droughts\")\n",
    "        for event in self._droughts:\n",
    "            print('\\t', event)"
   ]
  }
 ],
 "metadata": {
  "kernelspec": {
   "display_name": "Python 3 (ipykernel)",
   "language": "python",
   "name": "python3"
  },
  "language_info": {
   "codemirror_mode": {
    "name": "ipython",
    "version": 3
   },
   "file_extension": ".py",
   "mimetype": "text/x-python",
   "name": "python",
   "nbconvert_exporter": "python",
   "pygments_lexer": "ipython3",
   "version": "3.12.4"
  }
 },
 "nbformat": 4,
 "nbformat_minor": 4
}
