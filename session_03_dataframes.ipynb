{
 "cells": [
  {
   "attachments": {},
   "cell_type": "markdown",
   "metadata": {},
   "source": [
    "# Session 3 Pandas and DataFrames\n",
    "\n",
    "This notebook provides a brief introduction to [Pandas](https://pandas.pydata.org/docs/index.html). Pandas is a package for data analysis and manipulation. It organises data in tabular form in a structure called a Pandas `Series` (for 1D data) or a `DataFrame` (for tabular data). Before looking at this, let's define some data in the form of two lists (containing respectively the maximum precipitation events, for a list of years)."
   ]
  },
  {
   "cell_type": "code",
   "execution_count": null,
   "metadata": {},
   "outputs": [],
   "source": [
    "event_list = [150, 78, 30, 143, 56, 211, 90, 77]\n",
    "year_list = [2010, 2011, 2012, 2013, 2014, 2015, 2016, 2017]"
   ]
  },
  {
   "attachments": {},
   "cell_type": "markdown",
   "metadata": {},
   "source": [
    "The code cells below show some things you can do with this data when it is available in list format:\n",
    "1. get the event in the year 2013\n",
    "2. get the mean precipitation of the data\n",
    "3. plot the the events over time\n",
    "4. convert to inches"
   ]
  },
  {
   "cell_type": "code",
   "execution_count": null,
   "metadata": {},
   "outputs": [],
   "source": [
    "# 1. get the event in the year 2013\n",
    "i = year_list.index(2013)\n",
    "event_list[i]"
   ]
  },
  {
   "cell_type": "code",
   "execution_count": null,
   "metadata": {},
   "outputs": [],
   "source": [
    "# 2. get the mean precipitation of the data\n",
    "import numpy as np\n",
    "np.mean(event_list)"
   ]
  },
  {
   "cell_type": "code",
   "execution_count": null,
   "metadata": {},
   "outputs": [],
   "source": [
    "# 3. plot the the events over time\n",
    "import matplotlib.pyplot as plt\n",
    "plt.bar(year_list, event_list)"
   ]
  },
  {
   "cell_type": "code",
   "execution_count": null,
   "metadata": {},
   "outputs": [],
   "source": [
    "# 4. convert to inches\n",
    "event_list_inch = []\n",
    "for e in event_list:\n",
    "    #convert mm to inch\n",
    "    e_inch = e * 0.03937\n",
    "    event_list_inch.append(e_inch)\n",
    "\n",
    "event_list_inch"
   ]
  },
  {
   "cell_type": "markdown",
   "metadata": {},
   "source": [
    "or, using the wonderful technique of list comprehension in Python, as a one-liner"
   ]
  },
  {
   "cell_type": "code",
   "execution_count": null,
   "metadata": {},
   "outputs": [],
   "source": [
    "event_list_inch = [e * 0.03937 for e in event_list]"
   ]
  },
  {
   "attachments": {},
   "cell_type": "markdown",
   "metadata": {},
   "source": [
    "## Pandas Series\n",
    "\n",
    "The code above used various packages (Numpy, Matplotlib) and Python instructions to accomplish these tasks. If you store the data as a Pandas `Series` then you can do the same things, but with fewer lines of code."
   ]
  },
  {
   "cell_type": "code",
   "execution_count": null,
   "metadata": {},
   "outputs": [],
   "source": [
    "import pandas as pd\n",
    "\n",
    "s = pd.Series(\n",
    "    index=year_list,\n",
    "    data=event_list,\n",
    ")\n",
    "\n",
    "s"
   ]
  },
  {
   "cell_type": "code",
   "execution_count": null,
   "metadata": {},
   "outputs": [],
   "source": [
    "# 1. get the event in the year 2013\n",
    "s.loc[2013]"
   ]
  },
  {
   "cell_type": "code",
   "execution_count": null,
   "metadata": {},
   "outputs": [],
   "source": [
    "# 2. get the mean precipitation of the data\n",
    "s.mean()"
   ]
  },
  {
   "cell_type": "code",
   "execution_count": null,
   "metadata": {},
   "outputs": [],
   "source": [
    "# 3. plot the the events over time\n",
    "s.plot()"
   ]
  },
  {
   "cell_type": "code",
   "execution_count": null,
   "metadata": {},
   "outputs": [],
   "source": [
    "# 4. convert to inches\n",
    "s_inch = s * 0.03937\n",
    "s_inch"
   ]
  },
  {
   "attachments": {},
   "cell_type": "markdown",
   "metadata": {},
   "source": [
    "***Exercise 1***: We have a table with the average evaporation per year. Create a pandas `Series` and plot the data as a bar chart (see <A href=\"https://pandas.pydata.org/docs/reference/api/pandas.DataFrame.plot.bar.html\">https://pandas.pydata.org/docs/reference/api/pandas.DataFrame.plot.bar.html</A>).\n",
    "\n",
    "| year | evap |\n",
    "|------|------|\n",
    "| 2010 | 5.34 |\n",
    "| 2011 | 6.44 |\n",
    "| 2012 | 3.22 |\n",
    "| 2013 | 3.97 |\n",
    "| 2014 | 2.34 |\n",
    "| 2015 | 3.23 |\n",
    "| 2016 | 3.02 |\n",
    "| 2017 | 2.84 |\n",
    "| 2018 | 4.65 |\n",
    "| 2019 | 2.53 |\n",
    "| 2020 | 3.49 |"
   ]
  },
  {
   "cell_type": "code",
   "execution_count": null,
   "metadata": {},
   "outputs": [],
   "source": [
    "year_list = [2010, 2011, 2012, 2013, 2014, 2015, 2016, 2017, 2018, 2019, 2020]\n",
    "evap_list = [5.34, 6.44, 3.22, 3.97, 2.34, 3.23, 3.02, 2.84, 4.65, 2.53, 3.49]\n",
    "\n",
    "# Add your code here\n"
   ]
  },
  {
   "attachments": {},
   "cell_type": "markdown",
   "metadata": {},
   "source": [
    "## Pandas DataFrame\n",
    "\n",
    "A Pandas Series is basically just one column of data, with its corresponding index. A DataFrame consists of multiple Series and all columns share a common index. In the code cell below, a DataFrame is created with the years serving as the index. There are two data columns, one with the annual rainfall, and the other with the annual evaporation."
   ]
  },
  {
   "cell_type": "code",
   "execution_count": null,
   "metadata": {},
   "outputs": [],
   "source": [
    "year_list = [2010, 2011, 2012, 2013, 2014, 2015, 2016, 2017]\n",
    "rain_list = [750, 390, 900, 715, 280, 1055, 450, 385]\n",
    "evap_list = [534.0, 444.0, 322.0, 397.0, 234.0, 323.0, 302.0, 284.0]\n",
    "\n",
    "df = pd.DataFrame(\n",
    "    index=year_list,\n",
    "    data={\n",
    "       'rain': rain_list,\n",
    "       'evap': evap_list,\n",
    "    },\n",
    ")\n",
    "df"
   ]
  },
  {
   "cell_type": "markdown",
   "metadata": {},
   "source": [
    "As demonstrated earlier, the plot function provides a quick way to inspect the data."
   ]
  },
  {
   "cell_type": "code",
   "execution_count": null,
   "metadata": {},
   "outputs": [],
   "source": [
    "df.plot()"
   ]
  },
  {
   "cell_type": "markdown",
   "metadata": {},
   "source": [
    "Since the numerical values of precipitation and evaporation differ quite a lot, adding a secondary axis gives a better overview."
   ]
  },
  {
   "cell_type": "code",
   "execution_count": null,
   "metadata": {},
   "outputs": [],
   "source": [
    "df.plot(secondary_y=[\"evap\"]);"
   ]
  },
  {
   "cell_type": "markdown",
   "metadata": {},
   "source": [
    "Adding a column is easy. For example, adding the precipitation excess (excess) calculated from the rain and evap columns is done in the following way:"
   ]
  },
  {
   "cell_type": "code",
   "execution_count": null,
   "metadata": {},
   "outputs": [],
   "source": [
    "df['excess'] = df['rain'] - df['evap']\n",
    "df"
   ]
  },
  {
   "cell_type": "markdown",
   "metadata": {},
   "source": [
    "As the above code cell shows, individual columns can be accessed by typing the column name between square brackets that directly follow the DataFrame name. Another way to get a specific column is to use a dot followed by its name"
   ]
  },
  {
   "cell_type": "code",
   "execution_count": null,
   "metadata": {},
   "outputs": [],
   "source": [
    "df.excess"
   ]
  },
  {
   "cell_type": "markdown",
   "metadata": {},
   "source": [
    "A specific row can be selected using .loc[*x*], where the value of the index for that row should replace the *x* between the square brackets. For example for second last row the index value is 2017 so the statement becomes"
   ]
  },
  {
   "cell_type": "code",
   "execution_count": null,
   "metadata": {},
   "outputs": [],
   "source": [
    "df.loc[2017]"
   ]
  },
  {
   "cell_type": "markdown",
   "metadata": {},
   "source": [
    "To get a specific value from a row column pair, both the index value and the column name can be provided"
   ]
  },
  {
   "cell_type": "code",
   "execution_count": null,
   "metadata": {},
   "outputs": [],
   "source": [
    "df.loc[2017, \"excess\"]\n",
    "# df.at[2017, \"excess\"]  # same as above, but faster for single values (check with %timeit)\n"
   ]
  },
  {
   "cell_type": "markdown",
   "metadata": {},
   "source": [
    "***Exercise 2***: Modify the code cell below so that you obtain both the evaporation and the rainfall for a row using a single line of code."
   ]
  },
  {
   "cell_type": "code",
   "execution_count": null,
   "metadata": {},
   "outputs": [],
   "source": [
    "# Type your code here\n",
    "df.loc[2017, \"excess\"]"
   ]
  },
  {
   "cell_type": "markdown",
   "metadata": {},
   "source": [
    "Slicing or indexing the DataFrame based on a conditional is also possible. For example, to get only the rows for which the annua; precipitation is larger than 500 mm:"
   ]
  },
  {
   "cell_type": "code",
   "execution_count": null,
   "metadata": {},
   "outputs": [],
   "source": [
    "idx = df['rain'] > 500\n",
    "dfsub = df.loc[idx]\n",
    "dfsub"
   ]
  },
  {
   "cell_type": "markdown",
   "metadata": {},
   "source": [
    "### More indexing\n",
    "\n",
    "Another usefull way to index a DataFrame is by using integers to select an item in a certain row and column in a dataframe."
   ]
  },
  {
   "cell_type": "code",
   "execution_count": null,
   "metadata": {},
   "outputs": [],
   "source": [
    "# First row\n",
    "df.iloc[0]"
   ]
  },
  {
   "cell_type": "code",
   "execution_count": null,
   "metadata": {},
   "outputs": [],
   "source": [
    "# First row, first column\n",
    "df.iloc[0,0]"
   ]
  },
  {
   "cell_type": "code",
   "execution_count": null,
   "metadata": {},
   "outputs": [],
   "source": [
    "# First two rows, first two columns\n",
    "df.iloc[:2, :2]"
   ]
  },
  {
   "cell_type": "markdown",
   "metadata": {},
   "source": [
    "### Many built-in functionality\n",
    "\n",
    "Summary statistics are quickly obtained using the `describe` function."
   ]
  },
  {
   "cell_type": "code",
   "execution_count": null,
   "metadata": {},
   "outputs": [],
   "source": [
    "df.describe()"
   ]
  },
  {
   "cell_type": "markdown",
   "metadata": {},
   "source": [
    "Sorting the data by the column values can be done by:"
   ]
  },
  {
   "cell_type": "code",
   "execution_count": null,
   "metadata": {},
   "outputs": [],
   "source": [
    "df.sort_values(by='rain', ascending=False)"
   ]
  },
  {
   "cell_type": "markdown",
   "metadata": {},
   "source": [
    "Saving the DataFrame to an Excel file is easy using the `to_excel` function."
   ]
  },
  {
   "cell_type": "code",
   "execution_count": null,
   "metadata": {},
   "outputs": [],
   "source": [
    "df.to_excel(\"hwb.xlsx\")"
   ]
  },
  {
   "cell_type": "markdown",
   "metadata": {},
   "source": [
    "Importing the data from Excel is also easy (using the `read_excel` function). We'll explore these in later sessions in more detail."
   ]
  },
  {
   "cell_type": "markdown",
   "metadata": {},
   "source": [
    "## Data types\n",
    "\n",
    "The data used above could just as well have been handled by an array because it only involved numbers. In a DataFrame, it is possible to have mulitple data types. In the example below, containing data of groundwater recharge, one of the recharge fluxes is a string. This is a very simplistic example, but it may occur importing data from a file (for which Pandas offers many options)."
   ]
  },
  {
   "cell_type": "code",
   "execution_count": null,
   "metadata": {},
   "outputs": [],
   "source": [
    "new_s = pd.Series(\n",
    "    data=[150, 155, 164, 174, 183, 189, 192, '192'],\n",
    "    index=[2010, 2011, 2012, 2013, 2014, 2015, 2016, 2017],\n",
    ")\n",
    "new_s"
   ]
  },
  {
   "cell_type": "code",
   "execution_count": null,
   "metadata": {},
   "outputs": [],
   "source": [
    "# Check the datatypes of the series\n",
    "new_s.dtypes"
   ]
  },
  {
   "cell_type": "markdown",
   "metadata": {},
   "source": [
    "Converting the recharge to inches will result in a `TypeError` because a string can't be multiplied by a floating point number."
   ]
  },
  {
   "cell_type": "code",
   "execution_count": null,
   "metadata": {},
   "outputs": [],
   "source": [
    "new_s * 0.03937"
   ]
  },
  {
   "cell_type": "markdown",
   "metadata": {},
   "source": [
    "A way to avoid this is to try and convert all data to a number using the `to_numeric` function."
   ]
  },
  {
   "cell_type": "code",
   "execution_count": null,
   "metadata": {},
   "outputs": [],
   "source": [
    "new_s = pd.to_numeric(new_s)\n",
    "new_s * 0.3937"
   ]
  },
  {
   "cell_type": "markdown",
   "metadata": {},
   "source": [
    "***Exercise 3*** Execute the code cell below and inspect the output. Explain what happens."
   ]
  },
  {
   "cell_type": "code",
   "execution_count": null,
   "metadata": {},
   "outputs": [],
   "source": [
    "new_s = new_s.astype(str)\n",
    "new_s * 2"
   ]
  }
 ],
 "metadata": {
  "kernelspec": {
   "display_name": "Python 3 (ipykernel)",
   "language": "python",
   "name": "python3"
  },
  "language_info": {
   "codemirror_mode": {
    "name": "ipython",
    "version": 3
   },
   "file_extension": ".py",
   "mimetype": "text/x-python",
   "name": "python",
   "nbconvert_exporter": "python",
   "pygments_lexer": "ipython3",
   "version": "3.10.14"
  }
 },
 "nbformat": 4,
 "nbformat_minor": 4
}
