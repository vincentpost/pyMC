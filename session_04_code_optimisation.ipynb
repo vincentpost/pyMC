{
 "cells": [
  {
   "attachments": {},
   "cell_type": "markdown",
   "metadata": {},
   "source": [
    "# Code optimisation\n",
    "\n",
    "The mass balance model for chloride was implemented as a for loop with an array, while the water balance model was programmed as a vector operation on a DataFrame. For scripts which take a long time to run, performance is a key consideration during programming so this notebook will investigate different options to complete the same task and compare their performance. In addition to performance there are other considerations when writing code. These will be touched upon as well in this notebook."
   ]
  },
  {
   "cell_type": "code",
   "execution_count": null,
   "metadata": {},
   "outputs": [],
   "source": [
    "# import the required packages\n",
    "import pandas as pd\n",
    "import numpy as np\n",
    "import matplotlib.pyplot as plt"
   ]
  },
  {
   "cell_type": "markdown",
   "metadata": {},
   "source": [
    "We start by importing the data and observing the contents of the file by using the `head` function of the DataFrame, which returns the first five rows of data by default."
   ]
  },
  {
   "cell_type": "code",
   "execution_count": null,
   "metadata": {},
   "outputs": [],
   "source": [
    "# read the data from excel using pandas\n",
    "df = pd.read_excel(\n",
    "    \"data/water_balance_data.xlsx\",\n",
    "    index_col=0,\n",
    "    parse_dates=True,\n",
    ")\n",
    "df.head()"
   ]
  },
  {
   "attachments": {},
   "cell_type": "markdown",
   "metadata": {},
   "source": [
    "The volume of rainwater that lands on the water surface per day was calculated using the following line of code"
   ]
  },
  {
   "cell_type": "code",
   "execution_count": null,
   "metadata": {},
   "outputs": [],
   "source": [
    "df['P'] = df['area'] * df['rain'] / 1000."
   ]
  },
  {
   "cell_type": "markdown",
   "metadata": {},
   "source": [
    "In the  next section we will investigate additional options, and determine which one is the fastest."
   ]
  },
  {
   "attachments": {},
   "cell_type": "markdown",
   "metadata": {},
   "source": [
    "## Performance\n",
    "\n",
    "The rainfall can be calculated in four different ways (probably even more, but these are the most obvious ones):\n",
    "1. using a `for` loop\n",
    "2. using a `for` loop with the iterrows function\n",
    "3. using the `apply` method of a pandas DataFrame\n",
    "4. using the vector operations for pandas DataFrames, this is the same method as used here above\n",
    "\n",
    "We put the `%%timeit` code at the start of each cell to calculate the code execution time. This makes it easy to compare the performance of the methods. Note that the computation times can vary significantly between machines, python versions, package versions (NumPy, Pandas) and operating systems."
   ]
  },
  {
   "cell_type": "code",
   "execution_count": null,
   "metadata": {},
   "outputs": [],
   "source": [
    "%%timeit\n",
    "#1 using a simple for loop\n",
    "\n",
    "P = np.zeros(len(df))\n",
    "for i in range(len(df)):\n",
    "    P[i] = df['area'].iloc[i] * df['rain'].iloc[i] / 1000.0 \n",
    "\n",
    "df['P'] = P"
   ]
  },
  {
   "cell_type": "code",
   "execution_count": null,
   "metadata": {},
   "outputs": [],
   "source": [
    "%%timeit\n",
    "#2 using iterrows\n",
    "df['P'] = np.nan                            # create an empty column in the dataframe with the rain \n",
    "for i, row in df.iterrows():\n",
    "    P_i = row['area'] * row['rain'] / 1000.0  # calculate the rain flux for one timestap\n",
    "    df.loc[i, 'P'] = P_i               # assign the value to the column in the DataFrame"
   ]
  },
  {
   "cell_type": "code",
   "execution_count": null,
   "metadata": {},
   "outputs": [],
   "source": [
    "%%timeit\n",
    "#3 using the apply method\n",
    "\n",
    "# define a function to calculate the rain flux\n",
    "def get_P(row):\n",
    "    return row['area'] * row['rain'] / 1000.0\n",
    "\n",
    "# apply this function to every row in a Dataframe\n",
    "df['P'] = df.apply(get_P, axis=1)"
   ]
  },
  {
   "cell_type": "code",
   "execution_count": null,
   "metadata": {},
   "outputs": [],
   "source": [
    "%%timeit\n",
    "#4 using a vector operation\n",
    "df['P'] = df['area'] * df['rain'] / 1000"
   ]
  },
  {
   "attachments": {},
   "cell_type": "markdown",
   "metadata": {},
   "source": [
    "All the methods are pretty fast because our dataset is only 113 timesteps. However, you can see that there are large differences in computation times between the methods where the slowest method (2) is about 100 times slower than the fastest method (4).\n",
    "\n",
    "We can also compare our methods using the four steps of Wes Dyer:\n",
    "\n",
    "| method     | correct | clear | concise | fast |\n",
    "|------------|---------|-------|---------|------|\n",
    "| 1 for-loop | ✓       | x     | xx      | x   |\n",
    "| 2 iterrows | ✓       | x     | x       | xx   |\n",
    "| 3 apply    | ✓       | xx    | ✓       | x    |\n",
    "| 4 vector   | ✓       | ✓✓    | ✓✓      | ✓✓    |\n",
    "\n",
    "Note that especially 'clear' and 'concise' are very subjective criteria.\n",
    "\n",
    "Method 4 is clearly the winner in this case. So we chose this method to calculate the water balance. Let's time the entire model"
   ]
  },
  {
   "cell_type": "code",
   "execution_count": null,
   "metadata": {},
   "outputs": [],
   "source": [
    "%%timeit\n",
    "\n",
    "pan_factor = 1.2\n",
    "\n",
    "df['P'] = df['area'] * df['rain'] / 1000.\n",
    "df['E'] = df['area'] * df['evaporation'] / (1000. * pan_factor)\n",
    "df['dV'] = -df['volume'].diff(periods=-1)\n",
    "df['I'] = df['P'] - df['E'] - df['dV']"
   ]
  },
  {
   "attachments": {},
   "cell_type": "markdown",
   "metadata": {},
   "source": [
    "Can we make it even faster? By looking at the code we can see that both `df['rain']` and `df['evaporation']` are multiplied by `df['area']` and divided by 1000. We could define a variable that is equal to the area divided by 1000, and multiply the difference between rainfall and evaporation, reducing the number of arithmetic operations. Let's check if it makes a big difference. "
   ]
  },
  {
   "cell_type": "code",
   "execution_count": null,
   "metadata": {},
   "outputs": [],
   "source": [
    "%%timeit\n",
    "\n",
    "f = df[\"area\"] / 1000.\n",
    "df['dV'] = -df['volume'].diff(periods=-1)\n",
    "df['infiltration'] = (df['rain'] - df['evaporation'] / pan_factor) * f - df['dV']"
   ]
  },
  {
   "attachments": {},
   "cell_type": "markdown",
   "metadata": {},
   "source": [
    "It seems to be somewhat faster, but the code becomes a little less readable. Whether one weights up versus the other is a matter for debate."
   ]
  },
  {
   "attachments": {},
   "cell_type": "markdown",
   "metadata": {},
   "source": [
    "Note that when a `for` loop can not be avoided, a significant speed-up can be achieved by converting the data to NumPy arrays. Let's have a look at the rainfall calculation once more and check the performance of the for loop but now using NumPy arrays."
   ]
  },
  {
   "cell_type": "code",
   "execution_count": null,
   "metadata": {},
   "outputs": [],
   "source": [
    "rain = df['rain'].to_numpy()                # convert from a pandas dataframe to a numpy array\n",
    "area = df['area'].to_numpy()                # convert from a pandas dataframe to a numpy array"
   ]
  },
  {
   "cell_type": "code",
   "execution_count": null,
   "metadata": {},
   "outputs": [],
   "source": [
    "%%timeit\n",
    "\n",
    "P = np.zeros_like(rain)           # create an array with zeros and the same size as 'rain'\n",
    "for i in range(len(P)):\n",
    "    P[i] = area[i] * rain[i] / 1000.0  # calculate the rain flux for one timestap\n",
    "\n",
    "df['P'] = P               # create new column in the DataFrame with the rain flux\n"
   ]
  },
  {
   "attachments": {},
   "cell_type": "markdown",
   "metadata": {},
   "source": [
    "Much faster than looping over the DataFrame! That is good news, because our mass balance calculations are best done using a `for` loop."
   ]
  },
  {
   "cell_type": "markdown",
   "metadata": {},
   "source": [
    "***Exercise***\n",
    "\n",
    "Write some code to calculate the following polynomial expression\n",
    "\n",
    "$y = A x^4 + B x^3 + C x^2 + D x + E$\n",
    "\n",
    "Try to think of different ways to perform the calculation (*hint: remember the `poly1d` function in NumPy?*) and determine the executation times. The values of the coefficients and $x$ are already defined in the code cell below."
   ]
  },
  {
   "cell_type": "code",
   "execution_count": null,
   "metadata": {},
   "outputs": [],
   "source": [
    "x = np.linspace(0.01, 10, 1000)\n",
    "A = 0.1\n",
    "B = 0.2\n",
    "C = 0.3\n",
    "D = 0.4\n",
    "E  = 0.5"
   ]
  },
  {
   "cell_type": "code",
   "execution_count": null,
   "metadata": {},
   "outputs": [],
   "source": [
    "%%timeit\n",
    "\n",
    "y = # Type your code here"
   ]
  },
  {
   "cell_type": "code",
   "execution_count": null,
   "metadata": {},
   "outputs": [],
   "source": [
    "%%timeit\n",
    "\n",
    "y = # Type your code here"
   ]
  },
  {
   "cell_type": "code",
   "execution_count": null,
   "metadata": {},
   "outputs": [],
   "source": [
    "%%timeit\n",
    "\n",
    "y = # Type your code here"
   ]
  }
 ],
 "metadata": {
  "kernelspec": {
   "display_name": "Python 3 (ipykernel)",
   "language": "python",
   "name": "python3"
  },
  "language_info": {
   "codemirror_mode": {
    "name": "ipython",
    "version": 3
   },
   "file_extension": ".py",
   "mimetype": "text/x-python",
   "name": "python",
   "nbconvert_exporter": "python",
   "pygments_lexer": "ipython3",
   "version": "3.10.14"
  }
 },
 "nbformat": 4,
 "nbformat_minor": 4
}
