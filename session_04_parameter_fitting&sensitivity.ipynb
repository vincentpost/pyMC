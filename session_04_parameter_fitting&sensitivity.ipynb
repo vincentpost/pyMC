{
 "cells": [
  {
   "attachments": {},
   "cell_type": "markdown",
   "metadata": {},
   "source": [
    "# Parameter fitting and sensitivity analysis"
   ]
  },
  {
   "cell_type": "code",
   "execution_count": null,
   "metadata": {},
   "outputs": [],
   "source": [
    "# import the required packages\n",
    "import pandas as pd\n",
    "import numpy as np\n",
    "import matplotlib.pyplot as plt"
   ]
  },
  {
   "attachments": {},
   "cell_type": "markdown",
   "metadata": {},
   "source": [
    "Before we can do any calculations we once more need to import the file with the measured data."
   ]
  },
  {
   "cell_type": "code",
   "execution_count": null,
   "metadata": {},
   "outputs": [],
   "source": [
    "# read the data from excel using pandas\n",
    "df = pd.read_excel(\"data/water_balance_data.xlsx\", index_col=0, parse_dates=True)\n",
    "df.head()"
   ]
  },
  {
   "cell_type": "markdown",
   "metadata": {},
   "source": [
    "## Parameter optimization of the mass balance model\n",
    "\n",
    "Below we'll estimate the parameters for the water balance model that we developed, specifically the pan factor and the rainfall chloride concentration. The code that we used before to calculate the chloride mass balance is:"
   ]
  },
  {
   "cell_type": "code",
   "execution_count": null,
   "metadata": {},
   "outputs": [],
   "source": [
    "def get_conc_cl(data, pan_factor, Cl_rain):\n",
    "    \"\"\"get the chloride concentration over time\n",
    "\n",
    "    Parameters\n",
    "    ----------\n",
    "    data : DataFrame\n",
    "        DataFrame containing the columns area, volume, rain and evaporation\n",
    "    pan_factor : float\n",
    "        pan evaporation factor\n",
    "    Cl_rain : float\n",
    "        chloride concentration of the rain\n",
    "\n",
    "    Returns\n",
    "    -------\n",
    "    df : pandas DataFrame\n",
    "        dataframe with the calculated concentration as a column\n",
    "    \"\"\"\n",
    "    Cl_0 = 20  # g/m^3 = mg/l\n",
    "\n",
    "    df = (\n",
    "        data.copy()\n",
    "    )  # Create a local copy, making sure the original DataFrame stays intact\n",
    "\n",
    "    df[\"P\"] = df[\"area\"] * df[\"rain\"] / 1000.0\n",
    "    df[\"E\"] = df[\"area\"] * df[\"evaporation\"] / pan_factor / 1000.0\n",
    "    df[\"dV\"] = -df[\"volume\"].diff(periods=-1)\n",
    "    df[\"I\"] = df[\"P\"] - df[\"E\"] - df[\"dV\"]\n",
    "\n",
    "    P = df[\"P\"].to_numpy()\n",
    "    I = df[\"I\"].to_numpy()\n",
    "    V = df[\"volume\"].to_numpy()\n",
    "\n",
    "    M_Cl_g = np.empty(len(df))\n",
    "    conc_Cl = np.empty(len(df))\n",
    "\n",
    "    for i, (Vi, Pi, Ii) in enumerate(zip(V, P, I)):\n",
    "        if i == 0:  # First day\n",
    "            M_Cl_g[0] = Vi * Cl_0\n",
    "            conc_Cl[0] = M_Cl_g[0] / Vi  # Gives Cl_0 of course!\n",
    "        else:\n",
    "            M_Cl_g[i] = M_Cl_g[i - 1] + dM_P - dM_I\n",
    "            conc_Cl[i] = M_Cl_g[i] / Vi\n",
    "\n",
    "        dM_P = Cl_rain * Pi\n",
    "        dM_I = conc_Cl[i] * Ii\n",
    "\n",
    "    df[\"conc_Cl\"] = conc_Cl\n",
    "\n",
    "    return df"
   ]
  },
  {
   "cell_type": "markdown",
   "metadata": {},
   "source": [
    "Let's plot the calculated chloride concentrations along with the measured one, as well as the residuals."
   ]
  },
  {
   "cell_type": "code",
   "execution_count": null,
   "metadata": {},
   "outputs": [],
   "source": [
    "# read the data from excel using pandas\n",
    "df = pd.read_excel(\n",
    "    \"data/water_balance_data.xlsx\",\n",
    "    index_col=0,\n",
    "    parse_dates=True,\n",
    ")\n",
    "\n",
    "# run the model\n",
    "dfnew = get_conc_cl(data=df, Cl_rain=5, pan_factor=1.2)\n",
    "\n",
    "# plot the data\n",
    "fig, axs = plt.subplots(2, 1, figsize=(8, 4), sharex=True)\n",
    "axs[0].plot(dfnew[\"conc_Cl\"])\n",
    "axs[0].plot(dfnew[\"Cl_sample\"], marker=\"o\")\n",
    "axs[1].plot(dfnew[\"Cl_sample\"] - dfnew[\"conc_Cl\"], marker=\".\")\n",
    "axs[1].set_xticklabels(axs[1].get_xticklabels(), rotation=30, ha=\"right\");"
   ]
  },
  {
   "cell_type": "markdown",
   "metadata": {},
   "source": [
    "As noted previously the result isn't too bad, except that there appears to be a diverging trend in time. Let's see if we can improve the fit by optizing the `pan_factor` and the rainfall chloride concentration `Cl_rain`. There are a number of different ways to do it but here we will demonstrate the `lmfit` package. The [`lmfit` package](https://github.com/lmfit/lmfit-py) provides a range of non-linear least-squares minimization and curve-fitting functions for Python. It extends the methods of ` scipy.optimize` and provides some of the functionality that [PEST](https://pesthomepage.org) also provides.\n",
    "\n",
    "The fitting procedure involves the following steps:\n",
    "1. Create a function to calculate the chloride concentration given the two parameters: pan factor and chloride concentration (see above).\n",
    "2. Create an objective function in Python that will calculate the residuals from the parameters. This function will call the function in step 1.\n",
    "3. Run the `lmfit.minimize` function to find the optimal values\n",
    "\n",
    "The code cell above takes care of step 1 and defined the code for the chloride mass balance as a function. The objective function below calls get_conc_cl and returns the difference between the measured and calculated chloride concentrations (step 2):"
   ]
  },
  {
   "cell_type": "code",
   "execution_count": null,
   "metadata": {},
   "outputs": [],
   "source": [
    "def obj_cl_compare(pars):\n",
    "    \"\"\"objective function, compares calculated chloride concentration with\n",
    "    measurements.\n",
    "\n",
    "    Parameters\n",
    "    ----------\n",
    "    pars : lmfit Parameters\n",
    "        parameters with optimization settings\n",
    "\n",
    "    Returns\n",
    "    -------\n",
    "    numpy array with differences measured - modelled concentrations\n",
    "    \"\"\"\n",
    "\n",
    "    global df\n",
    "\n",
    "    parvals = pars.valuesdict()\n",
    "    pan_factor = parvals[\"pan_factor\"]\n",
    "    Cl_rain = parvals[\"Cl_rain\"]\n",
    "\n",
    "    dfnew = get_conc_cl(df, pan_factor, Cl_rain)\n",
    "\n",
    "    # Most rows have nan values for chloride so use dropna() to avoid returning nan's\n",
    "    return (dfnew[\"Cl_sample\"] - dfnew[\"conc_Cl\"]).dropna().values"
   ]
  },
  {
   "cell_type": "markdown",
   "metadata": {},
   "source": [
    "Now we create the variables necessary for the LmFit minimizer. Specifically, we need to create a `Parameter` object, to which we provide information about different parameters. For more information, check out the [LmFit Documentation](https://lmfit.github.io/lmfit-py/)"
   ]
  },
  {
   "cell_type": "code",
   "execution_count": null,
   "metadata": {},
   "outputs": [],
   "source": [
    "import lmfit  # Remember, you should move this import at the top\n",
    "\n",
    "parameters = lmfit.Parameters()\n",
    "parameters.add(\n",
    "    \"pan_factor\",  # Name of the parameter\n",
    "    value=1.2,  # Initial parameter guesstimate\n",
    "    min=0.1,  # Lower parameter bound\n",
    "    max=3.0,  # Upper parameter bound\n",
    ")\n",
    "parameters.add(\n",
    "    \"Cl_rain\",\n",
    "    value=5.0,\n",
    "    min=0.00001,\n",
    "    max=20.0,\n",
    ")\n",
    "\n",
    "# Create a minimizer object\n",
    "mini = lmfit.Minimizer(\n",
    "    userfcn=obj_cl_compare,  # Function that returns the residuals\n",
    "    params=parameters,  # lmfit parameter object\n",
    "    calc_covar=True,  # Bool whether to compute the covariance matrix\n",
    ")\n",
    "\n",
    "# Run the minimize method (estimate the parameters)\n",
    "result = mini.minimize(method=\"leastsq\")\n",
    "result"
   ]
  },
  {
   "attachments": {},
   "cell_type": "markdown",
   "metadata": {},
   "source": [
    "## Model sensitivity and uncertainty analysis\n",
    "\n",
    "This remainder of this notebook demonstrates a few different ways in which the effect of model parameters on the model outcomes can be quantified using Python. It is not a formal discussion of model sensitivity and uncertainty analysis. The main aim is to demonstrate the flexibility of Python when it comes to running models mulitple times, and to show the effect on the model outcomes. Parameters that are considered to be uncertain are the pan factor, the rainfall chloride concentration and the measured rainfall, evaporation and water volume.\n",
    "\n",
    "We will draw a number of samples from a normal distribution that respresent the uncertainty of the pan factor. The true value of the pan factor that was used to create the synthetic sample points was 1.3, which we'll use as the mean. Note that a slightly higher value was found during the calibration with `lmfit`, and that the standard error (i.e. the standard deviation) was reported to be approximately 0.064. In the example below we'll use a higher value, simply because it is then easier to see the differences between the model runs.\n",
    "\n",
    "The code below uses the [`scipy.stats`](https://docs.scipy.org/doc/scipy/reference/stats.html) module to define a normal probability distribution with a mean $\\mu_p$ and a standard deviation $\\sigma_p$. The value of variable `N` defines the number of values that will be used to draw the probability density function. The `norm` function is used to create the normal distribution and is stored as `dist_p`. The values for the pan factors on the x axis are defined by first calculating the value that corresponds to the 1 and 99 percent percentiles. These values are used as limits for the range of `N` x values. The probability densities for `xp` are stored in `yp` and are obtained using the `pdf` method of `dist_p`."
   ]
  },
  {
   "cell_type": "code",
   "execution_count": null,
   "metadata": {},
   "outputs": [],
   "source": [
    "from scipy.stats import norm\n",
    "\n",
    "N = 1000\n",
    "\n",
    "mu_p = 1.3  # Mean pan evaporation factor\n",
    "sigma_p = 0.1  # Standard error of the parameter\n",
    "\n",
    "dist_p = norm(loc=mu_p, scale=sigma_p)\n",
    "\n",
    "# Get the percentile values\n",
    "x001 = dist_p.ppf(0.01)\n",
    "x099 = dist_p.ppf(0.99)\n",
    "print(f\"The pan factor that corresponds to the 1% percentile is {x001}\")\n",
    "print(f\"The pan factor that corresponds to the 99% percentile is {x099}\")\n",
    "\n",
    "# Define the values for the x axis\n",
    "xp = np.linspace(\n",
    "    x001,\n",
    "    x099,\n",
    "    N,\n",
    ")\n",
    "\n",
    "# Use the values in xp to get the corresponding probability densities\n",
    "yp = dist_p.pdf(xp)\n",
    "\n",
    "# Plot the probability density curve\n",
    "plt.plot(xp, yp)\n",
    "plt.xlabel(\"Pan factor\")\n",
    "plt.ylabel(\"Probability density\");"
   ]
  },
  {
   "attachments": {},
   "cell_type": "markdown",
   "metadata": {},
   "source": [
    "The `cdf` method of `dist_p` returns the cummulative probabilities and can be used to draw the cummulative probability distribution."
   ]
  },
  {
   "cell_type": "code",
   "execution_count": null,
   "metadata": {},
   "outputs": [],
   "source": [
    "ypc = dist_p.cdf(xp)\n",
    "plt.plot(xp, ypc)\n",
    "plt.xlabel(\"Pan factor\")\n",
    "plt.ylabel(\"Probability\");"
   ]
  },
  {
   "attachments": {},
   "cell_type": "markdown",
   "metadata": {},
   "source": [
    "Let's draw five pan factors from the distribution. The selected values roughly encompass the 95% and 68% confidence intervals and the median average is also included."
   ]
  },
  {
   "cell_type": "code",
   "execution_count": null,
   "metadata": {},
   "outputs": [],
   "source": [
    "sample_percentiles = [0.025, 0.16, 0.5, 0.84, 0.975]\n",
    "pan_factors = dist_p.ppf(sample_percentiles)\n",
    "print(pan_factors)\n",
    "plt.plot(xp, ypc)\n",
    "plt.plot(pan_factors, sample_percentiles, \"C0o\")\n",
    "plt.xlabel(\"Pan factor\")\n",
    "plt.ylabel(\"Probability\");"
   ]
  },
  {
   "attachments": {},
   "cell_type": "markdown",
   "metadata": {},
   "source": [
    "With the five different realizations of the pan factor, its effect on the model outcome can be visualized. All it takes is a short `for` loop that steps through the selected pan factors and calls the `get_conc` function each time, and then plots the calculated chloride concentrations as a function of time. The last line of code also draws the sample data points."
   ]
  },
  {
   "cell_type": "code",
   "execution_count": null,
   "metadata": {},
   "outputs": [],
   "source": [
    "fig, ax = plt.subplots(figsize=(8, 2))\n",
    "\n",
    "for pan_factor in pan_factors:\n",
    "    dfnew = get_conc_cl(data=df, pan_factor=pan_factor, Cl_rain=4)\n",
    "    ax.plot(dfnew[\"conc_Cl\"])\n",
    "\n",
    "plt.plot(df[\"Cl_sample\"], marker=\"o\")\n",
    "plt.legend([\"{:.1%}\".format(p) for p in sample_percentiles])\n",
    "plt.xticks(rotation=30, ha=\"right\");"
   ]
  },
  {
   "attachments": {},
   "cell_type": "markdown",
   "metadata": {},
   "source": [
    "***Exercise 1***: Draw five values from a normal distribution of rainfall chloride concentrations (choose a mean and standard deviation that you think are reasonable). Plot the cummulative probability distribution."
   ]
  },
  {
   "cell_type": "code",
   "execution_count": null,
   "metadata": {},
   "outputs": [],
   "source": [
    "# Type your code here (hint: copy the code for the pan factor and adapt it for rainfall chloride)"
   ]
  },
  {
   "attachments": {},
   "cell_type": "markdown",
   "metadata": {},
   "source": [
    "Let's now run the model again, varying both the pan factor and the rainfall chloride concentration at the same time. The thing we need to remember though is that the realizations of both the pan factors and the rainfall chloride concentrations were drawn in the same order, that is the values in `pan_factors` and `Cl_rains` are both in increasing order. To fix this, we can use the `shuffle` function from `numpy.random`, which puts the array elements in random order. The result is illustrated below by printing the arrays to the screen before and after `shuffle` was called."
   ]
  },
  {
   "cell_type": "code",
   "execution_count": null,
   "metadata": {},
   "outputs": [],
   "source": [
    "print(pan_factors)\n",
    "np.random.shuffle(pan_factors)\n",
    "print(pan_factors)\n",
    "\n",
    "print(Cl_rains)\n",
    "np.random.shuffle(Cl_rains)\n",
    "print(Cl_rains)"
   ]
  },
  {
   "attachments": {},
   "cell_type": "markdown",
   "metadata": {},
   "source": [
    "Let's rerun the model but now with two parameters (the pan factor and the rainfall chloride concentration) being uncertain and plot the result. Python's `zip` function comes in handy here because it allows us to loop over the contents of two lists simultaneously."
   ]
  },
  {
   "cell_type": "code",
   "execution_count": null,
   "metadata": {},
   "outputs": [],
   "source": [
    "fig, ax = plt.subplots(figsize=(8, 2))\n",
    "for pan_factor, Cl_rain in zip(pan_factors, Cl_rains):\n",
    "    dfnew = get_conc_cl(data=df, pan_factor=pan_factor, Cl_rain=Cl_rain)\n",
    "    ax.plot(dfnew[\"conc_Cl\"])\n",
    "ax.plot(df[\"Cl_sample\"], marker=\"o\");"
   ]
  },
  {
   "attachments": {},
   "cell_type": "markdown",
   "metadata": {},
   "source": [
    "***Exercise (homework)***: The first code cell below takes into consideration the uncertainty of the rainfall measurements. A ~10% random error (assumed to be normally distributed) is added to each value in the `rain` column of `df`. The 10% is approximate, it is the result of using a standard deviation of 0.033 for the normal distribution (with about 99.7% of values being within three standard deviations from the mean).\n",
    "\n",
    "The second code cell creates a plot with one line for each model run. Because our model runs very fast we can easily run it 100 times. The lines plot close to one another, which resembles an uncertainty band (in the next session we'll look into how we can improve the appearance of graphs like this one).\n",
    "\n",
    "Modify the code below to create a series of 100 model runs in which the pan factor, rainfall chloride concentration as well as the measured rainfall, evaporation and the dam water volume are all stochastic parameters. Your code will be a mix of the code examples above and the one provided below."
   ]
  },
  {
   "cell_type": "code",
   "execution_count": null,
   "metadata": {},
   "outputs": [],
   "source": [
    "def get_conc_cl(data, pan_factor=1.3, Cl_rain=2, sd1=0.033):\n",
    "    Cl_0 = 20  # g/m^3 = mg/l\n",
    "\n",
    "    df = data.copy()\n",
    "\n",
    "    e_rain = np.random.normal(0, sd1, len(df[\"rain\"])) * df[\"rain\"]\n",
    "    df[\"rain\"] = df[\"rain\"] + e_rain\n",
    "    df[\"evaporation\"] = df[\"evaporation\"]\n",
    "    df[\"volume\"] = df[\"volume\"]\n",
    "\n",
    "    df[\"P\"] = df[\"area\"] * df[\"rain\"] / 1000.0\n",
    "    df[\"E\"] = df[\"area\"] * df[\"evaporation\"] / (1000.0 * pan_factor)\n",
    "    df[\"dV\"] = -df[\"volume\"].diff(periods=-1)\n",
    "    df[\"I\"] = df[\"P\"] - df[\"E\"] - df[\"dV\"]\n",
    "\n",
    "    M_Cl_g = np.empty(len(df))\n",
    "    conc_Cl = np.empty(len(df))\n",
    "\n",
    "    P = df[\"P\"].to_numpy()\n",
    "    I = df[\"I\"].to_numpy()\n",
    "    V = df[\"volume\"].to_numpy()\n",
    "    for i, (Vi, Pi, Ii) in enumerate(zip(V, P, I)):\n",
    "        if i == 0:  # First day\n",
    "            M_Cl_g[0] = Vi * Cl_0\n",
    "            conc_Cl[0] = M_Cl_g[0] / Vi  # Gives Cl_0 of course!\n",
    "        else:\n",
    "            M_Cl_g[i] = M_Cl_g[i - 1] + dM_P - dM_I\n",
    "            conc_Cl[i] = M_Cl_g[i] / Vi\n",
    "\n",
    "        dM_P = Cl_rain * Pi\n",
    "        dM_I = conc_Cl[i] * Ii\n",
    "\n",
    "    return df"
   ]
  },
  {
   "cell_type": "code",
   "execution_count": null,
   "metadata": {},
   "outputs": [],
   "source": [
    "fig, ax = plt.subplots(figsize=(8, 4))\n",
    "for n in range(100):\n",
    "    df = get_conc_cl(df.copy(), sd1=0.033)\n",
    "    ax.plot(dfnew[\"conc_Cl\"])\n",
    "ax.plot(df[\"Cl_sample\"], marker=\"o\");"
   ]
  }
 ],
 "metadata": {
  "kernelspec": {
   "display_name": "Python 3 (ipykernel)",
   "language": "python",
   "name": "python3"
  },
  "language_info": {
   "codemirror_mode": {
    "name": "ipython",
    "version": 3
   },
   "file_extension": ".py",
   "mimetype": "text/x-python",
   "name": "python",
   "nbconvert_exporter": "python",
   "pygments_lexer": "ipython3",
   "version": "3.10.14"
  }
 },
 "nbformat": 4,
 "nbformat_minor": 4
}
