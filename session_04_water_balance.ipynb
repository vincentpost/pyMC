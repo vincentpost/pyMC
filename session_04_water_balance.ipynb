{
 "cells": [
  {
   "attachments": {},
   "cell_type": "markdown",
   "metadata": {},
   "source": [
    "## Water balance model\n",
    "\n",
    "This notebook explains how to create a water balance model for a farm dam (a tiny lake) in Australia. We continue with the data from the previous session and complete the data set that will become the model input. The figure below is a schematic representation of our water balance model. There are three fluxes: precipitation, evaporation and infiltration. The infiltration flux represents the flow of water from the lake to the groundwater. Inflow and outflow through the dam inlet and outlet are zero for the selected time period (no surface water flux).\n",
    "\n",
    "<p align=\"center\">\n",
    "<img src=\"water_balance.png\" alt=\"drawing\" width=\"600\">\n",
    "</p>"
   ]
  },
  {
   "cell_type": "code",
   "execution_count": null,
   "metadata": {},
   "outputs": [],
   "source": [
    "# import the required packages\n",
    "import pandas as pd\n",
    "import numpy as np\n",
    "import matplotlib.pyplot as plt"
   ]
  },
  {
   "cell_type": "markdown",
   "metadata": {},
   "source": [
    "We start by importing the incomplete data and observing the contents of the file by using the `head` function of the DataFrame, which returns the first five rows of data by default."
   ]
  },
  {
   "cell_type": "code",
   "execution_count": null,
   "metadata": {},
   "outputs": [],
   "source": [
    "# read the data from excel using pandas\n",
    "dfd = pd.read_excel(\n",
    "    'data/water_balance_data_incomplete.xlsx',\n",
    "    index_col=0,\n",
    "    parse_dates=True,\n",
    ")\n",
    "dfd.head()"
   ]
  },
  {
   "cell_type": "markdown",
   "metadata": {},
   "source": [
    "Last week's homework exercise was to calculate the vapour pressure deficit and add it as a column named 'vpd' to the DataFrame. The code cell below demonstrates how to do this (see the notebook from session 3 for the equation to calculate the vpd)."
   ]
  },
  {
   "cell_type": "code",
   "execution_count": null,
   "metadata": {},
   "outputs": [],
   "source": [
    "e_s = 0.6108 * np.exp(17.27 * dfd[\"temperature\"] / (dfd[\"temperature\"] + 237.3))\n",
    "e_a = dfd[\"rh\"] / 100 * e_s\n",
    "dfd[\"vpd\"] = e_s - e_a\n",
    "dfd.head()"
   ]
  },
  {
   "cell_type": "markdown",
   "metadata": {},
   "source": [
    "By loading the coefficients of the polynomials that calculate dam area and volume based on the water level (saved previously in a ASCII text file), we can convert the measured water levels to water surface area and volume, and add these as new columns to the DataFrame."
   ]
  },
  {
   "cell_type": "code",
   "execution_count": null,
   "metadata": {},
   "outputs": [],
   "source": [
    "p_func_V = np.poly1d(np.loadtxt(\"data/p_coef_V_linear.dat\"))\n",
    "p_func_A = np.poly1d(np.loadtxt(\"data/p_coef_A_linear.dat\"))\n",
    "\n",
    "dfd[\"volume\"] = p_func_V(dfd[\"wl\"])\n",
    "dfd[\"area\"] = p_func_A(dfd[\"wl\"])\n",
    "dfd.head()"
   ]
  },
  {
   "cell_type": "markdown",
   "metadata": {},
   "source": [
    "We complete the data set by also loading the observations of the chloride concentrations and isotope delta values that were measured in water samples taken from the farm dam. Since the measurements were not taken on a daily basis, there are a lot of nan's in the data set, but that is not a problem for Pandas."
   ]
  },
  {
   "cell_type": "code",
   "execution_count": null,
   "metadata": {},
   "outputs": [],
   "source": [
    "dfobs = pd.read_excel(\n",
    "    \"data/cl&isotope_observations.xlsx\",\n",
    "    index_col=0,\n",
    "    parse_dates=True,\n",
    ")\n",
    "dfobs"
   ]
  },
  {
   "cell_type": "markdown",
   "metadata": {},
   "source": [
    "The data can be added to the `dfd` DataFrame by using the `join` method. This method has several options for controlling how the DataFrames should be joined, but since `dfd` and `dfobs` have the same index, there is no need to use any of the keyword arguments. We use the `to_excel` method to save the DataFrame for later use."
   ]
  },
  {
   "cell_type": "code",
   "execution_count": null,
   "metadata": {},
   "outputs": [],
   "source": [
    "df = dfd.join(other=dfobs)\n",
    "\n",
    "df.to_excel(\"data/water_balance_data.xlsx\")"
   ]
  },
  {
   "attachments": {},
   "cell_type": "markdown",
   "metadata": {},
   "source": [
    "### Precipitation\n",
    "\n",
    "For the water and mass balance calculations, all water balance terms must be in m $^3$/d. We start with calculating the volumetric flow rate of rainfall which is\n",
    "\n",
    "$ P = A * P_{mm} / 1000$\n",
    "\n",
    "in which $P$ is the amount of rainfall added to the farm dam in m $^3$ /d, $P_{mm}$ the recorded daily rainfall in mm and $A$ is the water surface area m $^2$. Let's first plot the required data."
   ]
  },
  {
   "cell_type": "code",
   "execution_count": null,
   "metadata": {},
   "outputs": [],
   "source": [
    "df[['rain', 'area']].plot(secondary_y='area', figsize=(8,2))"
   ]
  },
  {
   "attachments": {},
   "cell_type": "markdown",
   "metadata": {},
   "source": [
    "To get the volume of rainwater that lands on the water surface we can easily implement the formula above, replacing the symbols by the column values in `df`"
   ]
  },
  {
   "cell_type": "code",
   "execution_count": null,
   "metadata": {},
   "outputs": [],
   "source": [
    "df['P'] = df['area'] * df['rain'] / 1000.\n",
    "df.head()"
   ]
  },
  {
   "attachments": {},
   "cell_type": "markdown",
   "metadata": {},
   "source": [
    "Now that we have the daily volumetric rainfall amount as a column in the DataFrame we can easily plot it."
   ]
  },
  {
   "cell_type": "code",
   "execution_count": null,
   "metadata": {},
   "outputs": [],
   "source": [
    "df[\"P\"].plot(\n",
    "    kind=\"bar\",\n",
    "    figsize=(10, 4),\n",
    "    ylabel=\"m3/day\",\n",
    "    title=\"Rainfall\",\n",
    ")"
   ]
  },
  {
   "attachments": {},
   "cell_type": "markdown",
   "metadata": {},
   "source": [
    "### Evaporation\n",
    "Now we calculate the evaporation contribution to the water balance. The evaporation measurements in the Excel represent daily values measured using a Class A evaporation pan. The conversion to a volumetric evaporation rate in m $^3$/d is\n",
    "\n",
    "$ E = A * E_{mm} / 1.2 / 1000 $\n",
    "\n",
    "in which $E$ is the evaporated amount of water in m $^3$ /d, $E_{mm}$ the recorded daily pan evaporation in mm. From the equation it can be seen that the pan factor (which converts the pan evaporation to open water evaporation) was assumed to be 1.2."
   ]
  },
  {
   "cell_type": "code",
   "execution_count": null,
   "metadata": {},
   "outputs": [],
   "source": [
    "pan_factor = 1.2\n",
    "df['E'] = df['area'] * df['evaporation'] / pan_factor / 1000.\n",
    "df['E'].head()"
   ]
  },
  {
   "attachments": {},
   "cell_type": "markdown",
   "metadata": {},
   "source": [
    "Let's plot the data"
   ]
  },
  {
   "cell_type": "code",
   "execution_count": null,
   "metadata": {},
   "outputs": [],
   "source": [
    "df['E'].plot(\n",
    "    kind='bar',\n",
    "    figsize=(10,4), \n",
    "    ylabel='m3/day', \n",
    "    title='Evaporation',\n",
    ");"
   ]
  },
  {
   "attachments": {},
   "cell_type": "markdown",
   "metadata": {},
   "source": [
    "### Infiltration\n",
    "\n",
    "The infiltration was not measured directly. Therefore we use the precipitation and the evaporation together with the daily volume changes of the farm dam to calculate the infiltration as\n",
    "\n",
    "$ I = P - E - dV$\n",
    "\n",
    "in which $I$ is the infiltration rate in m $^3$/d. $dV$ is the change in water volume between two consecutive days. Note that $P$ and $E$ are both positive numbers but $dV$ is negative when the water volume decreases from one day to the next. $I$ is also a positive number when the direction of flow is from  the farm dam to the groundwater."
   ]
  },
  {
   "cell_type": "markdown",
   "metadata": {},
   "source": [
    "***Exercise***: We can use the `diff` method to calculate the change in volume. Run the code cell below and inspect the difference between the resulting Series. Decide which code is appropriate for the calculations."
   ]
  },
  {
   "cell_type": "code",
   "execution_count": null,
   "metadata": {},
   "outputs": [],
   "source": [
    "dV0 = df['volume'].diff()\n",
    "dV1 = df['volume'].diff(periods=-1)\n",
    "dV2 = -df['volume'].diff(periods=-1)\n",
    "# Plot the first three rows of each resulting DataFrame\n",
    "print(dV0.head(3), dV1.head(3), dV2.head(3))"
   ]
  },
  {
   "cell_type": "code",
   "execution_count": null,
   "metadata": {},
   "outputs": [],
   "source": [
    "df[\"dV\"] = "
   ]
  },
  {
   "cell_type": "code",
   "execution_count": null,
   "metadata": {},
   "outputs": [],
   "source": [
    "df['I'] = df['P'] - df['E'] - df['dV']"
   ]
  },
  {
   "attachments": {},
   "cell_type": "markdown",
   "metadata": {},
   "source": [
    "Now we have all the water balance components we can plot the results."
   ]
  },
  {
   "cell_type": "code",
   "execution_count": null,
   "metadata": {},
   "outputs": [],
   "source": [
    "df[['P', 'E', 'I', 'dV']].plot(\n",
    "    figsize=(10, 4), \n",
    "    grid=True,\n",
    ");"
   ]
  },
  {
   "cell_type": "markdown",
   "metadata": {},
   "source": [
    "## Mass Balance\n",
    "\n",
    "Using the code below we calculate the chloride mass balance. We assume a starting chloride concentration for the farm dam water and a chloride concentration of the rain. \n",
    "\n",
    "We use a for-loop because the first time step is different than the following, plus the calculation of the concentration depends on the concentration in the previous time step. When a for loop is required for the calculations, it is highly recommended to conver the DataFrames to NumPy arrays because this will make the calculations a lot faster (see session_04_code_optimisation.ipynb).\n",
    "\n",
    "Note that evaporation doesn't enter the equations for the chloride mass balance because the chloride concentration of the evaporating water is zero. However, it is needed to calculate the amount of water infiltrating.\n",
    "\n",
    "The model is coded as a function, which will be of use later on when we want to calibrate the model and do sensitivity analysis."
   ]
  },
  {
   "cell_type": "code",
   "execution_count": null,
   "metadata": {},
   "outputs": [],
   "source": [
    "def get_conc_cl(data, pan_factor, Cl_rain):\n",
    "    \"\"\" get the chloride concentration over time\n",
    "    \n",
    "    Parameters\n",
    "    ----------\n",
    "    data : DataFrame\n",
    "        DataFrame containing the columns area, volume, rain and evaporation\n",
    "    pan_factor : float\n",
    "        pan evaporation factor\n",
    "    Cl_rain : float\n",
    "        chloride concentration of the rain\n",
    "\n",
    "    Returns\n",
    "    -------\n",
    "    df : pandas DataFrame\n",
    "        dataframe with calculate concentration as a column    \n",
    "    \"\"\"\n",
    "    Cl_0 = 20 # g/m^3 = mg/l\n",
    "\n",
    "    df = data.copy() # Create a local copy, making sure the original DataFrame stays intact\n",
    "\n",
    "    df['P'] = df['area'] * df['rain'] / 1000.\n",
    "    df['E'] = df['area'] * df['evaporation'] / pan_factor / 1000.\n",
    "    df['dV'] = -df['volume'].diff(periods=-1)\n",
    "    df['I'] = df['P'] - df['E'] - df['dV']\n",
    "\n",
    "    P = df[\"P\"].to_numpy()\n",
    "    I = df[\"I\"].to_numpy()\n",
    "    V = df[\"volume\"].to_numpy()\n",
    "\n",
    "    M_Cl_g = np.empty(len(df))\n",
    "    conc_Cl = np.empty(len(df))\n",
    "\n",
    "    for i, (Vi, Pi, Ii) in enumerate(zip(V, P, I)):\n",
    "        if i == 0: # First day\n",
    "            M_Cl_g[0] = Vi * Cl_0\n",
    "            conc_Cl[0] = M_Cl_g[0] / Vi # Gives Cl_0 of course!\n",
    "        else:\n",
    "            M_Cl_g[i] = M_Cl_g[i - 1] + dM_P - dM_I\n",
    "            conc_Cl[i] = M_Cl_g[i] / Vi\n",
    "\n",
    "        dM_P = Cl_rain * Pi\n",
    "        dM_I = conc_Cl[i] * Ii\n",
    "\n",
    "    df[\"conc_Cl\"] = conc_Cl\n",
    "\n",
    "    return df"
   ]
  },
  {
   "cell_type": "markdown",
   "metadata": {},
   "source": [
    "Let's read the data and execute the function"
   ]
  },
  {
   "cell_type": "code",
   "execution_count": null,
   "metadata": {},
   "outputs": [],
   "source": [
    "# read the data from excel using pandas\n",
    "df = pd.read_excel(\n",
    "    'data/water_balance_data.xlsx',\n",
    "    index_col=0,\n",
    "    parse_dates=True,\n",
    ")\n",
    "\n",
    "dfnew = get_conc_cl(data=df, Cl_rain=5, pan_factor=1.2)"
   ]
  },
  {
   "attachments": {},
   "cell_type": "markdown",
   "metadata": {},
   "source": [
    "Now we can plot the calculated chloride concentrations, as well as the measured ones. The result isn't too bad, except that there appears to be a diverging trend in time. This will be dealt with in the next notebook."
   ]
  },
  {
   "cell_type": "code",
   "execution_count": null,
   "metadata": {},
   "outputs": [],
   "source": [
    "fig, ax = plt.subplots(figsize=(8,2))\n",
    "ax.plot(dfnew[\"conc_Cl\"])\n",
    "ax.plot(dfnew[\"Cl_sample\"], 'o');"
   ]
  }
 ],
 "metadata": {
  "kernelspec": {
   "display_name": "Python 3 (ipykernel)",
   "language": "python",
   "name": "python3"
  },
  "language_info": {
   "codemirror_mode": {
    "name": "ipython",
    "version": 3
   },
   "file_extension": ".py",
   "mimetype": "text/x-python",
   "name": "python",
   "nbconvert_exporter": "python",
   "pygments_lexer": "ipython3",
   "version": "3.10.14"
  }
 },
 "nbformat": 4,
 "nbformat_minor": 4
}
