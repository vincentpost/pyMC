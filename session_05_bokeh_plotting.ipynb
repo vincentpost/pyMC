{
 "cells": [
  {
   "cell_type": "markdown",
   "metadata": {},
   "source": [
    "# Intro to interactive plotting with Bokeh\n",
    "\n",
    "As hydrologists we often work with time series data and geographical data. We measure a hydrological variable over time, often in multiple locations. After measuring for a certain time, some extreme events may occur, and we may be interested in looking at a specific period in time, or a geographical location. We want to interact with the data. More so, we want to look at the data interactively. In this notebook we will explore the [Bokeh python package](https://docs.bokeh.org/en/latest/index.html) for interactive plotting with Python. We will focus on geographical data and time series data, but many more kind of plots can be made with Bokeh. Interesting examples of these can be found in [the Bokeh Gallery](https://docs.bokeh.org/en/latest/docs/gallery.html).\n",
    "\n",
    "### 1. Importing the necessary Python packages\n",
    "\n",
    "Depending on the plot, we may need to import different `Models` from bokeh. Here we load a couple of models that we will explore in this notebook."
   ]
  },
  {
   "cell_type": "code",
   "execution_count": null,
   "metadata": {},
   "outputs": [],
   "source": [
    "import pandas as pd\n",
    "import bokeh\n",
    "\n",
    "from bokeh.plotting import figure, show\n",
    "from bokeh.models import (\n",
    "    ColumnDataSource,\n",
    "    HoverTool,\n",
    "    LinearColorMapper,\n",
    "    ColorBar,\n",
    "    DataTable,\n",
    "    TableColumn,\n",
    ")\n",
    "from bokeh.layouts import row\n",
    "\n",
    "# Ensure bokeh plots are displayed inline in the Jupyter notebook\n",
    "bokeh.io.output_notebook()\n"
   ]
  },
  {
   "cell_type": "markdown",
   "metadata": {},
   "source": [
    "### Load some example data\n",
    "\n",
    "In this notebook we will explore time series from groundwater monitoring wells in Switzerland, collected from the [Swiss Federal Office for the Environment](https://www.bafu.admin.ch). The dataset contains 1) the time series in `heads.csv` and 2) the metadata for each well in `metadata.csv`. This is a convenient format to work with time series data and geographical data (X,Y locations plus some metadata). Note that if you have your own data, you can simply replace these files in the same format, and rerun this notebook to display your own data."
   ]
  },
  {
   "cell_type": "code",
   "execution_count": null,
   "metadata": {},
   "outputs": [],
   "source": [
    "## Import time series data\n",
    "data = pd.read_csv(\"data/heads.csv\", index_col=0, parse_dates=True)\n",
    "data.head()"
   ]
  },
  {
   "cell_type": "code",
   "execution_count": null,
   "metadata": {},
   "outputs": [],
   "source": [
    "# Import metadata\n",
    "metadata = pd.read_csv(\"data/metadata.csv\", index_col=0)\n",
    "metadata.head()"
   ]
  },
  {
   "cell_type": "markdown",
   "metadata": {},
   "source": [
    "### Pandas / Matplotlib plot\n",
    "\n",
    "So, let's have a look at the time series data. We can do this by using the built-on Matplotlib plotting functions from Pandas as follows:"
   ]
  },
  {
   "cell_type": "code",
   "execution_count": null,
   "metadata": {},
   "outputs": [],
   "source": [
    "data.plot(legend=False)"
   ]
  },
  {
   "cell_type": "markdown",
   "metadata": {},
   "source": [
    "The above figure does not tell us a lot. We want to zoom in! We can do that by changing the y-limit or x-axis limits, but that involves quite a bit of programming. Moreover, perhaps we just want to have a quick look at the data? \n",
    "\n",
    "### Bokeh figure\n",
    "\n",
    "Let's introduce Bokeh, an Python package for making interactive plots and webpages (not explored here, but possible). Making a Bokeh plot is a bit more complex, but once we are done the produced plot is very powerfull. Let's explore how to make an interactive version of the plot above."
   ]
  },
  {
   "cell_type": "code",
   "execution_count": null,
   "metadata": {},
   "outputs": [],
   "source": [
    "# Create a new Bokeh figure\n",
    "p = figure(\n",
    "    height=200,\n",
    "    width=800,\n",
    "    x_axis_type=\"datetime\",  # This is important for time series\n",
    ")\n",
    "\n",
    "# We have to convert the DataFrame to a ColumnDataSource\n",
    "source = ColumnDataSource(data)\n",
    "\n",
    "# Plot the time series data\n",
    "p.line(x=\"index\", y=\"Davos\", source=source)\n",
    "\n",
    "# Show all time series\n",
    "p.multi_line(\n",
    "    xs=[data.index.values] * len(data.columns),\n",
    "    ys=[data[name].values for name in data.columns],\n",
    ")\n",
    "\n",
    "# We have to show the plot\n",
    "show(p)"
   ]
  },
  {
   "cell_type": "markdown",
   "metadata": {},
   "source": [
    "### Plot a single time series\n",
    "\n",
    "Let us consider plotting a single time series to explore some other features of Bokeh plotting. We will add some `tools` and dress up the plot."
   ]
  },
  {
   "cell_type": "code",
   "execution_count": null,
   "metadata": {},
   "outputs": [],
   "source": [
    "# Create a new Bokeh figure\n",
    "p = figure(\n",
    "    height=200,\n",
    "    width=800,\n",
    "    x_axis_type=\"datetime\",\n",
    "    x_axis_location=\"below\",\n",
    "    tools=\"pan,box_zoom,reset,save, wheel_zoom, hover\",\n",
    "    background_fill_color=\"#efefef\",  # Or whatever color you want\n",
    ")\n",
    "\n",
    "# Plot the time series data\n",
    "name = \"Oberwichtrach\"\n",
    "p.line(x=\"index\", y=name, source=source)\n",
    "\n",
    "# Dress up the plot\n",
    "p.title.text = name\n",
    "p.xaxis.axis_label = \"Date\"\n",
    "p.yaxis.axis_label = \"Heads\"\n",
    "\n",
    "# We have to show the plot\n",
    "show(p)\n"
   ]
  },
  {
   "cell_type": "markdown",
   "metadata": {},
   "source": [
    "## Plot geographic data\n",
    "\n",
    "Now we will plot the geographic data. We will use the `metadata` DataFrame to get the coordinates of each location. Bokeh uses the Mercator projection for plotting, while our data is provided in longitude and latitude. We use the Python package PyProj to transform the coordinates and add new columns to the metadata DataFrame. \n"
   ]
  },
  {
   "cell_type": "code",
   "execution_count": null,
   "metadata": {},
   "outputs": [],
   "source": [
    "# Convert latitude and longitude to x and y coordinates using the Mercator projection\n",
    "from pyproj import Transformer\n",
    "\n",
    "transformer = Transformer.from_crs(\"EPSG:4326\", \"EPSG:3857\")\n",
    "\n",
    "metadata[\"x\"], metadata[\"y\"] = transformer.transform(metadata[\"lat\"], metadata[\"lon\"])"
   ]
  },
  {
   "cell_type": "markdown",
   "metadata": {},
   "source": [
    "### Make a map\n",
    "\n",
    "We are now ready to make a map. We will use the `figure` function from Bokeh to create a new plot.  We will set the `x_axis_type` and `y_axis_type` to \"mercator\" to use the Mercator projection and let Bokeh know that we are plotting geographical data. We will set the `tools` to \"pan,box_zoom,reset,save, wheel_zoom, hover\" to allow the user to interact with the plot. Finally, we will add a background map to inform us where we are."
   ]
  },
  {
   "cell_type": "code",
   "execution_count": null,
   "metadata": {},
   "outputs": [],
   "source": [
    "### Plot the geographic data with Bokeh\n",
    "\n",
    "# Create a new Bokeh figure\n",
    "p = figure(\n",
    "    height=400,\n",
    "    width=650,\n",
    "    tools=\"pan, wheel_zoom, box_zoom, reset\",\n",
    "    background_fill_color=\"#ffffff\",  # Or whatever color you want\n",
    "    x_axis_type=\"mercator\",\n",
    "    y_axis_type=\"mercator\",\n",
    ")\n",
    "\n",
    "# We have to convert the DataFrame to a ColumnDataSource\n",
    "source = ColumnDataSource(metadata)\n",
    "\n",
    "# Color the points according to one of the columns\n",
    "col = metadata[\"Prec\"].values\n",
    "exp_cmap = LinearColorMapper(palette=\"Viridis256\", low=min(col), high=max(col))\n",
    "\n",
    "# Plot the geographic data\n",
    "p.scatter(\n",
    "    x=\"x\",\n",
    "    y=\"y\",\n",
    "    size=15,\n",
    "    fill_alpha=0.8,\n",
    "    source=source,\n",
    "    fill_color={\"field\": \"Prec\", \"transform\": exp_cmap},\n",
    ")\n",
    "\n",
    "p.add_tile(\n",
    "    \"CartoDB Positron\",\n",
    "    retina=True,\n",
    ")\n",
    "\n",
    "# We have to show the plot\n",
    "show(p)"
   ]
  },
  {
   "cell_type": "markdown",
   "metadata": {},
   "source": [
    "### Adding a colorbar\n",
    "\n",
    "Not bad, but what do these colors mean? We need to add a colorbar to the plot. We will do that, and re-draw the figure. This is a usefull option sometimes, as we will see later."
   ]
  },
  {
   "cell_type": "code",
   "execution_count": null,
   "metadata": {},
   "outputs": [],
   "source": [
    "# Add a color bar\n",
    "bar = ColorBar(color_mapper=exp_cmap, location=(0, 0), title=\"Precipitation [mm/yr]\")\n",
    "p.add_layout(bar, \"left\")\n",
    "\n",
    "show(p)"
   ]
  },
  {
   "cell_type": "markdown",
   "metadata": {},
   "source": [
    "### Add a hovertool\n",
    "\n",
    "Better. But what is the exact value of that single point? Or perhaps the value of another column in our metadata DataFrame? We can add such information by adding a `HoverTool` with specific user-provided description as follows: "
   ]
  },
  {
   "cell_type": "code",
   "execution_count": null,
   "metadata": {},
   "outputs": [],
   "source": [
    "# Add hovertool to p\n",
    "p.add_tools(\n",
    "    HoverTool(\n",
    "        tooltips=[\n",
    "            (\"Name\", \"@index\"),\n",
    "            (\"Precipitation\", \"@Prec mm/yr\"),\n",
    "            (\"Evaporation\", \"@Evap mm/yr\"),\n",
    "            (\"Temperature\", \"@Temp deg.\"),\n",
    "        ]\n",
    "    )\n",
    ")\n",
    "\n",
    "show(p)"
   ]
  },
  {
   "cell_type": "markdown",
   "metadata": {},
   "source": [
    "### Interactive table and plot\n",
    "\n",
    "Bokeh is really aimed at allowing you to interact with the data. In the example below we show how you can combine a Table with a geographical map to select and display certain parts of the data. This is just an example of the possibilities of Bokeh plotting, feel free to explore more!"
   ]
  },
  {
   "cell_type": "code",
   "execution_count": null,
   "metadata": {},
   "outputs": [],
   "source": [
    "# Create a bokeh table with the metadata\n",
    "\n",
    "columns = [\n",
    "    TableColumn(field=\"index\", title=\"Name\"),\n",
    "    TableColumn(field=\"Prec\", title=\"Precipitation [mm/yr]\"),\n",
    "    TableColumn(field=\"Evap\", title=\"Evaporation [mm/yr]\"),\n",
    "    TableColumn(field=\"Temp\", title=\"Temperature [deg.]\"),\n",
    "]\n",
    "\n",
    "table = DataTable(source=source, columns=columns, width=400, height=400)\n",
    "\n",
    "show(row(p, table))"
   ]
  }
 ],
 "metadata": {
  "kernelspec": {
   "display_name": "geopandas_env",
   "language": "python",
   "name": "python3"
  },
  "language_info": {
   "codemirror_mode": {
    "name": "ipython",
    "version": 3
   },
   "file_extension": ".py",
   "mimetype": "text/x-python",
   "name": "python",
   "nbconvert_exporter": "python",
   "pygments_lexer": "ipython3",
   "version": "3.10.14"
  }
 },
 "nbformat": 4,
 "nbformat_minor": 2
}
