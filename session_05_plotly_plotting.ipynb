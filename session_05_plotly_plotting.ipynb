{
 "cells": [
  {
   "cell_type": "markdown",
   "metadata": {},
   "source": [
    "# Intro to interactive plotting with Plotly\n",
    "\n",
    " In this notebook we will explore the [Plotly package](https://plotly.com/) for interactive plotting with Python. We will use the same geographical data and time series data as in the notebook on plotting with Bokeh to demonstrate the differences and similarities between the packages. The learning curve for Plotly is very steep and it is more focused on the commercial market than other Python packages, but it is useful to know about its capabilities. Plotly is closely linked to Dash, which can be used to create web-based data apps. Interesting examples of these can be found on [the example apps](https://plotly.com/examples/) page. This is worthy of a course on its own, in this notebooks we'll explore some of the basic plotting capabilities of Plotly.\n",
    "\n",
    "### 1. Importing the necessary Python packages\n",
    "\n",
    "Plotly Express is Plotly's high-level API for creating figures in Python, which is intended to be able to create common figures quickly. We'll explore some of its options by revisiting the water balance dataset, and then we'll move on to the Switzerland data to showcase Plotly's interactive plotting capabilities. These require some classes and functions from Dash, hence the last line of imports in the code cell below."
   ]
  },
  {
   "cell_type": "code",
   "execution_count": null,
   "metadata": {},
   "outputs": [],
   "source": [
    "import pandas as pd\n",
    "import plotly.express as px\n",
    "from dash import Dash, html, dcc, Output, Input, callback"
   ]
  },
  {
   "cell_type": "markdown",
   "metadata": {},
   "source": [
    "One type of plot that isn't easy to create with Matplotlib is a ternary diagram. In Plotly Express it is directly available by calling `scatter_ternary`. Note how the function accepts a DataFrame as the first argument, while the subsequent arguments `a`, `b` and `c` are the names of the columns in the DataFrame that should be used on the axes of the ternary plot. Observe what happens when you hover over the data points with the mouse cursor."
   ]
  },
  {
   "cell_type": "code",
   "execution_count": null,
   "metadata": {},
   "outputs": [],
   "source": [
    "# Read the water balance data from excel using pandas\n",
    "df = pd.read_excel('data/water_balance_data.xlsx',\n",
    "                   index_col=0,\n",
    "                   parse_dates=True)\n",
    "\n",
    "pan_factor = 1.2\n",
    "\n",
    "# Calculate the volumetric rates\n",
    "df['P'] = df['area'] * df['rain'] / 1000.\n",
    "df['E'] = df['area'] * df['evaporation'] / (1000. * pan_factor)\n",
    "df['dV'] = -df['volume'].diff(periods=-1)\n",
    "df['I'] = df['P'] - df['E'] - df['dV']\n",
    "\n",
    "# Draw a ternary diagram with the water balance components\n",
    "fig0 = px.scatter_ternary(df, a=\"P\", b=\"E\", c=\"I\")\n",
    "fig0.show()"
   ]
  },
  {
   "cell_type": "markdown",
   "metadata": {},
   "source": [
    "Another figure type that is easy to create is a stacked bar diagram. By passing the column names to be plotted in a list to the `y` argument of the function, Plotly automatically understands that the bars need to be stacked. Just like in the previous example, the DataFrame is the first argument to be passed to the function. Note that in the legend you can click on the items to switch them on or off."
   ]
  },
  {
   "cell_type": "code",
   "execution_count": null,
   "metadata": {},
   "outputs": [],
   "source": [
    "\n",
    "# Draw a stacked bar diagram of the water balance components\n",
    "fig1 = px.bar(df, x=df.index, y=[\"P\", \"E\", \"I\"], title=\"Water balance components\")\n",
    "fig1.show()"
   ]
  },
  {
   "cell_type": "markdown",
   "metadata": {},
   "source": [
    "### Load some example data\n",
    "\n",
    "Now back to the time series from groundwater monitoring wells in Switzerland, collected from the [Swiss Federal Office for the Environment](https://www.bafu.admin.ch). Remember that the dataset contains 1) the time series in `heads.csv` and 2) the metadata for each well in `metadata.csv`."
   ]
  },
  {
   "cell_type": "code",
   "execution_count": null,
   "metadata": {},
   "outputs": [],
   "source": [
    "## Import time series data\n",
    "data = pd.read_csv(\"data/heads.csv\", index_col=0, parse_dates=True)\n",
    "data.head()"
   ]
  },
  {
   "cell_type": "code",
   "execution_count": null,
   "metadata": {},
   "outputs": [],
   "source": [
    "# Import metadata\n",
    "metadata = pd.read_csv(\"data/metadata.csv\", index_col=0)\n",
    "metadata.head()"
   ]
  },
  {
   "cell_type": "markdown",
   "metadata": {},
   "source": [
    "### Pandas / Plotly plot\n",
    "\n",
    "Remember that a DataFrame has a `plot` method. By default, the plot will be created using Matplotlib, but this can be changed to Plotly as well."
   ]
  },
  {
   "cell_type": "code",
   "execution_count": null,
   "metadata": {},
   "outputs": [],
   "source": [
    "pd.options.plotting.backend = \"plotly\"\n",
    "data.plot()"
   ]
  },
  {
   "cell_type": "markdown",
   "metadata": {},
   "source": [
    "### Plot a single time series using Plotly Express\n",
    "\n",
    "The `line` function from Plotly Express is the equivalent of the Matplotlib `plot` function. As with the previous functions, the DataFrame to be used is the first function argument, the subsequent arguments determine which data go on which axis."
   ]
  },
  {
   "cell_type": "code",
   "execution_count": null,
   "metadata": {},
   "outputs": [],
   "source": [
    "fig = px.line(data, x=data.index, y=\"Oberwichtrach\")\n",
    "fig.show()"
   ]
  },
  {
   "cell_type": "markdown",
   "metadata": {},
   "source": [
    "The result is already quite nice, but using the `update_layout` method, the appearance of the graph can be tweaked."
   ]
  },
  {
   "cell_type": "code",
   "execution_count": null,
   "metadata": {},
   "outputs": [],
   "source": [
    "name=\"Oberwichtrach\"\n",
    "fig = px.line(data, x=data.index, y=name)\n",
    "\n",
    "# Dress up the plot\n",
    "fig.update_layout(\n",
    "    title = name,\n",
    "    xaxis_title = \"Date\",\n",
    "    yaxis_title = \"Heads\",\n",
    ")\n",
    "fig.show()"
   ]
  },
  {
   "cell_type": "markdown",
   "metadata": {},
   "source": [
    "A very nice feature of Plotly is the ability to save the figure in HTML5 format. This can be viewed in a browser as an interactive figure. This makes it possible to easily share the figures with others. There is no need to include the underlying data files because the data are stored with the HTML file. Obviously, if you are working with confidential data, you need to be careful here!"
   ]
  },
  {
   "cell_type": "code",
   "execution_count": null,
   "metadata": {},
   "outputs": [],
   "source": [
    "fig.write_html(f'{name}.html', auto_open=True)"
   ]
  },
  {
   "cell_type": "markdown",
   "metadata": {},
   "source": [
    "## Plot geographic data\n",
    "\n",
    "Now we will plot the geographic data. We will use the `metadata` DataFrame to get the coordinates of each location. Bokeh uses the Mercator projection for plotting, while our data is provided in longitude and latitude. We use the Python package PyProj to transform the coordinates and add new columns to the metadata DataFrame. \n"
   ]
  },
  {
   "cell_type": "markdown",
   "metadata": {},
   "source": [
    "### Make a map\n",
    "\n",
    "We are now ready to make a map. We will use the `scatter_mapbox` function from Plotly Express, which requires the coordinates to be in lat/lon format. The data from the \"Prec\" column will be used to determine the size and color of the markers. The `hover_name` and `hover_data` arguments determine which data from the DataFrame 'metadata' are displayed when the user hovers their mouse cursor over the station locations. By setting the `mapbox_style` to \"open-street-map\" an OSM background map will be displayed."
   ]
  },
  {
   "cell_type": "code",
   "execution_count": null,
   "metadata": {},
   "outputs": [],
   "source": [
    "figmap = px.scatter_mapbox(\n",
    "    metadata, \n",
    "    lat=\"lat\", \n",
    "    lon=\"lon\", \n",
    "    size=\"Prec\",\n",
    "    color=\"Prec\",\n",
    "    color_continuous_scale=\"viridis\",\n",
    "    hover_name=metadata.index,\n",
    "    hover_data=['id', 'Evap', 'Temp', 'Prec'],\n",
    "    zoom=6, \n",
    "    height=600,\n",
    ")\n",
    "\n",
    "figmap.update_layout(\n",
    "    coloraxis_colorbar_title_text='Precipitation [mm/yr]',\n",
    "    mapbox_style=\"open-street-map\",\n",
    ")\n",
    "\n",
    "figmap.show()"
   ]
  },
  {
   "cell_type": "markdown",
   "metadata": {},
   "source": [
    "### Bonus material: Interactive plot\n",
    "\n",
    "The final example shows how to combine a map with a graph. Clicking a station location on the map automatically updates the time series displayed in the graph on the right. The code is quite complex but some comments are provided in the code cell to explain the main steps."
   ]
  },
  {
   "cell_type": "code",
   "execution_count": null,
   "metadata": {},
   "outputs": [],
   "source": [
    "# Use Dash to create an interactive app that shows the figures created previously side by side\n",
    "app = Dash()\n",
    "\n",
    "app.layout = html.Div(\n",
    "    [\n",
    "        html.Div(\n",
    "            [\n",
    "                dcc.Graph(figure=figmap, id=\"metadata-map\") # 'figmap' was created earlier, 'id' is its name within the Dash app\n",
    "            ],\n",
    "            style={'width': '49%', 'display': 'inline-block'} # some formatting options\n",
    "        ),\n",
    "        \n",
    "        html.Div(\n",
    "            [\n",
    "                dcc.Graph(figure=fig, id=\"data-graph\")\n",
    "            ],\n",
    "            style={'width': '49%', 'display': 'inline-block'}\n",
    "        )\n",
    "    ],\n",
    ")\n",
    "\n",
    "# Add a callback function that redraws the graph when a point on the map is clicked\n",
    "@callback(\n",
    "    Output('data-graph', 'figure'), # name of the target graph, and the type of output (a figure)\n",
    "    Input('metadata-map', 'clickData'), # name of the input graph, and the kind of data that will be passed to the update_graph function\n",
    ")\n",
    "def update_graph(clickData):\n",
    "    if clickData is None:\n",
    "        name = \"Oberwichtrach\"\n",
    "    else:\n",
    "        name = clickData['points'][0]['hovertext'] # This gets the station name\n",
    "    \n",
    "    fig = px.line(data, x=data.index, y=name) # Recrete the time series graph\n",
    "\n",
    "    # Dress up the plot\n",
    "    fig.update_layout(\n",
    "        title = name,\n",
    "        xaxis_title = \"Date\",\n",
    "        yaxis_title = \"Heads\",\n",
    "    )\n",
    "\n",
    "    return fig # Returns the new figure to replace the old one in 'data-graph'\n",
    "\n",
    "app.run_server()"
   ]
  }
 ],
 "metadata": {
  "kernelspec": {
   "display_name": "geopandas_env",
   "language": "python",
   "name": "python3"
  },
  "language_info": {
   "codemirror_mode": {
    "name": "ipython",
    "version": 3
   },
   "file_extension": ".py",
   "mimetype": "text/x-python",
   "name": "python",
   "nbconvert_exporter": "python",
   "pygments_lexer": "ipython3",
   "version": "3.10.14"
  }
 },
 "nbformat": 4,
 "nbformat_minor": 2
}
